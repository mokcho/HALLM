{
 "cells": [
  {
   "cell_type": "markdown",
   "metadata": {},
   "source": [
    "# ENV SETTING"
   ]
  },
  {
   "cell_type": "code",
   "execution_count": 3,
   "metadata": {},
   "outputs": [
    {
     "ename": "KeyboardInterrupt",
     "evalue": "",
     "output_type": "error",
     "traceback": [
      "\u001b[0;31m---------------------------------------------------------------------------\u001b[0m",
      "\u001b[0;31mKeyboardInterrupt\u001b[0m                         Traceback (most recent call last)",
      "Cell \u001b[0;32mIn[3], line 7\u001b[0m\n\u001b[1;32m      4\u001b[0m \u001b[38;5;28;01mimport\u001b[39;00m \u001b[38;5;21;01mos\u001b[39;00m\n\u001b[1;32m      5\u001b[0m \u001b[38;5;28;01mimport\u001b[39;00m \u001b[38;5;21;01mpandas\u001b[39;00m \u001b[38;5;28;01mas\u001b[39;00m \u001b[38;5;21;01mpd\u001b[39;00m\n\u001b[0;32m----> 7\u001b[0m \u001b[38;5;28;01mimport\u001b[39;00m \u001b[38;5;21;01mtorch\u001b[39;00m\n\u001b[1;32m      8\u001b[0m \u001b[38;5;28;01mimport\u001b[39;00m \u001b[38;5;21;01mtorch\u001b[39;00m\u001b[38;5;21;01m.\u001b[39;00m\u001b[38;5;21;01mnn\u001b[39;00m \u001b[38;5;28;01mas\u001b[39;00m \u001b[38;5;21;01mnn\u001b[39;00m\n\u001b[1;32m      9\u001b[0m \u001b[38;5;28;01mfrom\u001b[39;00m \u001b[38;5;21;01mtorch\u001b[39;00m\u001b[38;5;21;01m.\u001b[39;00m\u001b[38;5;21;01mutils\u001b[39;00m\u001b[38;5;21;01m.\u001b[39;00m\u001b[38;5;21;01mdata\u001b[39;00m \u001b[38;5;28;01mimport\u001b[39;00m DataLoader, TensorDataset\n",
      "File \u001b[0;32m~/anaconda3/envs/HALLM/lib/python3.10/site-packages/torch/__init__.py:1504\u001b[0m\n\u001b[1;32m   1499\u001b[0m \u001b[38;5;28;01mfrom\u001b[39;00m \u001b[38;5;21;01mtorch\u001b[39;00m\u001b[38;5;21;01m.\u001b[39;00m\u001b[38;5;21;01mutils\u001b[39;00m\u001b[38;5;21;01m.\u001b[39;00m\u001b[38;5;21;01mdlpack\u001b[39;00m \u001b[38;5;28;01mimport\u001b[39;00m from_dlpack, to_dlpack\n\u001b[1;32m   1501\u001b[0m \u001b[38;5;66;03m# Import experimental masked operations support. See\u001b[39;00m\n\u001b[1;32m   1502\u001b[0m \u001b[38;5;66;03m# [RFC-0016](https://github.com/pytorch/rfcs/pull/27) for more\u001b[39;00m\n\u001b[1;32m   1503\u001b[0m \u001b[38;5;66;03m# information.\u001b[39;00m\n\u001b[0;32m-> 1504\u001b[0m \u001b[38;5;28;01mfrom\u001b[39;00m \u001b[38;5;21;01m.\u001b[39;00m \u001b[38;5;28;01mimport\u001b[39;00m masked\n\u001b[1;32m   1506\u001b[0m \u001b[38;5;66;03m# Import removed ops with error message about removal\u001b[39;00m\n\u001b[1;32m   1507\u001b[0m \u001b[38;5;28;01mfrom\u001b[39;00m \u001b[38;5;21;01m.\u001b[39;00m\u001b[38;5;21;01m_linalg_utils\u001b[39;00m \u001b[38;5;28;01mimport\u001b[39;00m (  \u001b[38;5;66;03m# type: ignore[misc]\u001b[39;00m\n\u001b[1;32m   1508\u001b[0m     matrix_rank,\n\u001b[1;32m   1509\u001b[0m     eig,\n\u001b[1;32m   1510\u001b[0m     solve,\n\u001b[1;32m   1511\u001b[0m     lstsq,\n\u001b[1;32m   1512\u001b[0m )\n",
      "File \u001b[0;32m~/anaconda3/envs/HALLM/lib/python3.10/site-packages/torch/masked/__init__.py:3\u001b[0m\n\u001b[1;32m      1\u001b[0m \u001b[38;5;28;01mfrom\u001b[39;00m \u001b[38;5;21;01m.\u001b[39;00m\u001b[38;5;21;01mmaskedtensor\u001b[39;00m\u001b[38;5;21;01m.\u001b[39;00m\u001b[38;5;21;01mcore\u001b[39;00m \u001b[38;5;28;01mimport\u001b[39;00m is_masked_tensor, MaskedTensor\n\u001b[1;32m      2\u001b[0m \u001b[38;5;28;01mfrom\u001b[39;00m \u001b[38;5;21;01m.\u001b[39;00m\u001b[38;5;21;01mmaskedtensor\u001b[39;00m\u001b[38;5;21;01m.\u001b[39;00m\u001b[38;5;21;01mcreation\u001b[39;00m \u001b[38;5;28;01mimport\u001b[39;00m as_masked_tensor, masked_tensor\n\u001b[0;32m----> 3\u001b[0m \u001b[38;5;28;01mfrom\u001b[39;00m \u001b[38;5;21;01m.\u001b[39;00m\u001b[38;5;21;01m_ops\u001b[39;00m \u001b[38;5;28;01mimport\u001b[39;00m (\n\u001b[1;32m      4\u001b[0m     _canonical_dim,\n\u001b[1;32m      5\u001b[0m     _generate_docstring,\n\u001b[1;32m      6\u001b[0m     _reduction_identity,\n\u001b[1;32m      7\u001b[0m     _where,\n\u001b[1;32m      8\u001b[0m     _input_mask,\n\u001b[1;32m      9\u001b[0m     _output_mask,\n\u001b[1;32m     10\u001b[0m     _combine_input_and_mask,\n\u001b[1;32m     11\u001b[0m     \u001b[38;5;28msum\u001b[39m,\n\u001b[1;32m     12\u001b[0m     prod,\n\u001b[1;32m     13\u001b[0m     cumsum,\n\u001b[1;32m     14\u001b[0m     cumprod,\n\u001b[1;32m     15\u001b[0m     amax,\n\u001b[1;32m     16\u001b[0m     amin,\n\u001b[1;32m     17\u001b[0m     argmax,\n\u001b[1;32m     18\u001b[0m     argmin,\n\u001b[1;32m     19\u001b[0m     mean,\n\u001b[1;32m     20\u001b[0m     median,\n\u001b[1;32m     21\u001b[0m     logsumexp,\n\u001b[1;32m     22\u001b[0m     logaddexp,\n\u001b[1;32m     23\u001b[0m     norm,\n\u001b[1;32m     24\u001b[0m     var,\n\u001b[1;32m     25\u001b[0m     std,\n\u001b[1;32m     26\u001b[0m     softmax,\n\u001b[1;32m     27\u001b[0m     log_softmax,\n\u001b[1;32m     28\u001b[0m     softmin,\n\u001b[1;32m     29\u001b[0m     normalize,\n\u001b[1;32m     30\u001b[0m )\n\u001b[1;32m     32\u001b[0m __all__ \u001b[38;5;241m=\u001b[39m [\n\u001b[1;32m     33\u001b[0m     \u001b[38;5;124m\"\u001b[39m\u001b[38;5;124mas_masked_tensor\u001b[39m\u001b[38;5;124m\"\u001b[39m,\n\u001b[1;32m     34\u001b[0m     \u001b[38;5;124m\"\u001b[39m\u001b[38;5;124mis_masked_tensor\u001b[39m\u001b[38;5;124m\"\u001b[39m,\n\u001b[1;32m     35\u001b[0m     \u001b[38;5;124m\"\u001b[39m\u001b[38;5;124mmasked_tensor\u001b[39m\u001b[38;5;124m\"\u001b[39m,\n\u001b[1;32m     36\u001b[0m     \u001b[38;5;124m\"\u001b[39m\u001b[38;5;124mMaskedTensor\u001b[39m\u001b[38;5;124m\"\u001b[39m,\n\u001b[1;32m     37\u001b[0m ]\n",
      "File \u001b[0;32m~/anaconda3/envs/HALLM/lib/python3.10/site-packages/torch/masked/_ops.py:11\u001b[0m\n\u001b[1;32m      9\u001b[0m \u001b[38;5;28;01mfrom\u001b[39;00m \u001b[38;5;21;01mtorch\u001b[39;00m\u001b[38;5;21;01m.\u001b[39;00m\u001b[38;5;21;01mmasked\u001b[39;00m \u001b[38;5;28;01mimport\u001b[39;00m as_masked_tensor, is_masked_tensor, MaskedTensor\n\u001b[1;32m     10\u001b[0m \u001b[38;5;28;01mfrom\u001b[39;00m \u001b[38;5;21;01m.\u001b[39;00m \u001b[38;5;28;01mimport\u001b[39;00m _docs\n\u001b[0;32m---> 11\u001b[0m \u001b[38;5;28;01mfrom\u001b[39;00m \u001b[38;5;21;01mtorch\u001b[39;00m\u001b[38;5;21;01m.\u001b[39;00m\u001b[38;5;21;01m_prims_common\u001b[39;00m \u001b[38;5;28;01mimport\u001b[39;00m corresponding_real_dtype\n\u001b[1;32m     12\u001b[0m \u001b[38;5;28;01mfrom\u001b[39;00m \u001b[38;5;21;01mtorch\u001b[39;00m \u001b[38;5;28;01mimport\u001b[39;00m sym_float\n\u001b[1;32m     14\u001b[0m \u001b[38;5;28;01mif\u001b[39;00m TYPE_CHECKING:\n",
      "File \u001b[0;32m~/anaconda3/envs/HALLM/lib/python3.10/site-packages/torch/_prims_common/__init__.py:23\u001b[0m\n\u001b[1;32m      9\u001b[0m \u001b[38;5;28;01mfrom\u001b[39;00m \u001b[38;5;21;01mfunctools\u001b[39;00m \u001b[38;5;28;01mimport\u001b[39;00m cmp_to_key, reduce\n\u001b[1;32m     10\u001b[0m \u001b[38;5;28;01mfrom\u001b[39;00m \u001b[38;5;21;01mtyping\u001b[39;00m \u001b[38;5;28;01mimport\u001b[39;00m (\n\u001b[1;32m     11\u001b[0m     Any,\n\u001b[1;32m     12\u001b[0m     Callable,\n\u001b[0;32m   (...)\u001b[0m\n\u001b[1;32m     20\u001b[0m     Union,\n\u001b[1;32m     21\u001b[0m )\n\u001b[0;32m---> 23\u001b[0m \u001b[38;5;28;01mimport\u001b[39;00m \u001b[38;5;21;01msympy\u001b[39;00m\n\u001b[1;32m     25\u001b[0m \u001b[38;5;28;01mimport\u001b[39;00m \u001b[38;5;21;01mtorch\u001b[39;00m\n\u001b[1;32m     26\u001b[0m \u001b[38;5;28;01mfrom\u001b[39;00m \u001b[38;5;21;01mtorch\u001b[39;00m \u001b[38;5;28;01mimport\u001b[39;00m sym_float, sym_int, sym_max\n",
      "File \u001b[0;32m~/anaconda3/envs/HALLM/lib/python3.10/site-packages/sympy/__init__.py:74\u001b[0m\n\u001b[1;32m     67\u001b[0m \u001b[38;5;28;01mfrom\u001b[39;00m \u001b[38;5;21;01m.\u001b[39;00m\u001b[38;5;21;01mlogic\u001b[39;00m \u001b[38;5;28;01mimport\u001b[39;00m (to_cnf, to_dnf, to_nnf, And, Or, Not, Xor, Nand, Nor,\n\u001b[1;32m     68\u001b[0m         Implies, Equivalent, ITE, POSform, SOPform, simplify_logic, bool_map,\n\u001b[1;32m     69\u001b[0m         true, false, satisfiable)\n\u001b[1;32m     71\u001b[0m \u001b[38;5;28;01mfrom\u001b[39;00m \u001b[38;5;21;01m.\u001b[39;00m\u001b[38;5;21;01massumptions\u001b[39;00m \u001b[38;5;28;01mimport\u001b[39;00m (AppliedPredicate, Predicate, AssumptionsContext,\n\u001b[1;32m     72\u001b[0m         assuming, Q, ask, register_handler, remove_handler, refine)\n\u001b[0;32m---> 74\u001b[0m \u001b[38;5;28;01mfrom\u001b[39;00m \u001b[38;5;21;01m.\u001b[39;00m\u001b[38;5;21;01mpolys\u001b[39;00m \u001b[38;5;28;01mimport\u001b[39;00m (Poly, PurePoly, poly_from_expr, parallel_poly_from_expr,\n\u001b[1;32m     75\u001b[0m         degree, total_degree, degree_list, LC, LM, LT, pdiv, prem, pquo,\n\u001b[1;32m     76\u001b[0m         pexquo, div, rem, quo, exquo, half_gcdex, gcdex, invert,\n\u001b[1;32m     77\u001b[0m         subresultants, resultant, discriminant, cofactors, gcd_list, gcd,\n\u001b[1;32m     78\u001b[0m         lcm_list, lcm, terms_gcd, trunc, monic, content, primitive, compose,\n\u001b[1;32m     79\u001b[0m         decompose, sturm, gff_list, gff, sqf_norm, sqf_part, sqf_list, sqf,\n\u001b[1;32m     80\u001b[0m         factor_list, factor, intervals, refine_root, count_roots, all_roots,\n\u001b[1;32m     81\u001b[0m         real_roots, nroots, ground_roots, nth_power_roots_poly, cancel,\n\u001b[1;32m     82\u001b[0m         reduced, groebner, is_zero_dimensional, GroebnerBasis, poly,\n\u001b[1;32m     83\u001b[0m         symmetrize, horner, interpolate, rational_interpolate, viete, together,\n\u001b[1;32m     84\u001b[0m         BasePolynomialError, ExactQuotientFailed, PolynomialDivisionFailed,\n\u001b[1;32m     85\u001b[0m         OperationNotSupported, HeuristicGCDFailed, HomomorphismFailed,\n\u001b[1;32m     86\u001b[0m         IsomorphismFailed, ExtraneousFactors, EvaluationFailed,\n\u001b[1;32m     87\u001b[0m         RefinementFailed, CoercionFailed, NotInvertible, NotReversible,\n\u001b[1;32m     88\u001b[0m         NotAlgebraic, DomainError, PolynomialError, UnificationFailed,\n\u001b[1;32m     89\u001b[0m         GeneratorsError, GeneratorsNeeded, ComputationFailed,\n\u001b[1;32m     90\u001b[0m         UnivariatePolynomialError, MultivariatePolynomialError,\n\u001b[1;32m     91\u001b[0m         PolificationFailed, OptionError, FlagError, minpoly,\n\u001b[1;32m     92\u001b[0m         minimal_polynomial, primitive_element, field_isomorphism,\n\u001b[1;32m     93\u001b[0m         to_number_field, isolate, round_two, prime_decomp, prime_valuation,\n\u001b[1;32m     94\u001b[0m         galois_group, itermonomials, Monomial, lex, grlex,\n\u001b[1;32m     95\u001b[0m         grevlex, ilex, igrlex, igrevlex, CRootOf, rootof, RootOf,\n\u001b[1;32m     96\u001b[0m         ComplexRootOf, RootSum, roots, Domain, FiniteField, IntegerRing,\n\u001b[1;32m     97\u001b[0m         RationalField, RealField, ComplexField, PythonFiniteField,\n\u001b[1;32m     98\u001b[0m         GMPYFiniteField, PythonIntegerRing, GMPYIntegerRing, PythonRational,\n\u001b[1;32m     99\u001b[0m         GMPYRationalField, AlgebraicField, PolynomialRing, FractionField,\n\u001b[1;32m    100\u001b[0m         ExpressionDomain, FF_python, FF_gmpy, ZZ_python, ZZ_gmpy, QQ_python,\n\u001b[1;32m    101\u001b[0m         QQ_gmpy, GF, FF, ZZ, QQ, ZZ_I, QQ_I, RR, CC, EX, EXRAW,\n\u001b[1;32m    102\u001b[0m         construct_domain, swinnerton_dyer_poly, cyclotomic_poly,\n\u001b[1;32m    103\u001b[0m         symmetric_poly, random_poly, interpolating_poly, jacobi_poly,\n\u001b[1;32m    104\u001b[0m         chebyshevt_poly, chebyshevu_poly, hermite_poly, hermite_prob_poly,\n\u001b[1;32m    105\u001b[0m         legendre_poly, laguerre_poly, apart, apart_list, assemble_partfrac_list,\n\u001b[1;32m    106\u001b[0m         Options, ring, xring, vring, sring, field, xfield, vfield, sfield)\n\u001b[1;32m    108\u001b[0m \u001b[38;5;28;01mfrom\u001b[39;00m \u001b[38;5;21;01m.\u001b[39;00m\u001b[38;5;21;01mseries\u001b[39;00m \u001b[38;5;28;01mimport\u001b[39;00m (Order, O, limit, Limit, gruntz, series, approximants,\n\u001b[1;32m    109\u001b[0m         residue, EmptySequence, SeqPer, SeqFormula, sequence, SeqAdd, SeqMul,\n\u001b[1;32m    110\u001b[0m         fourier_series, fps, difference_delta, limit_seq)\n\u001b[1;32m    112\u001b[0m \u001b[38;5;28;01mfrom\u001b[39;00m \u001b[38;5;21;01m.\u001b[39;00m\u001b[38;5;21;01mfunctions\u001b[39;00m \u001b[38;5;28;01mimport\u001b[39;00m (factorial, factorial2, rf, ff, binomial,\n\u001b[1;32m    113\u001b[0m         RisingFactorial, FallingFactorial, subfactorial, carmichael,\n\u001b[1;32m    114\u001b[0m         fibonacci, lucas, motzkin, tribonacci, harmonic, bernoulli, bell, euler,\n\u001b[0;32m   (...)\u001b[0m\n\u001b[1;32m    135\u001b[0m         Znm, elliptic_k, elliptic_f, elliptic_e, elliptic_pi, beta, mathieus,\n\u001b[1;32m    136\u001b[0m         mathieuc, mathieusprime, mathieucprime, riemann_xi, betainc, betainc_regularized)\n",
      "File \u001b[0;32m~/anaconda3/envs/HALLM/lib/python3.10/site-packages/sympy/polys/__init__.py:79\u001b[0m\n\u001b[1;32m      3\u001b[0m __all__ \u001b[38;5;241m=\u001b[39m [\n\u001b[1;32m      4\u001b[0m     \u001b[38;5;124m'\u001b[39m\u001b[38;5;124mPoly\u001b[39m\u001b[38;5;124m'\u001b[39m, \u001b[38;5;124m'\u001b[39m\u001b[38;5;124mPurePoly\u001b[39m\u001b[38;5;124m'\u001b[39m, \u001b[38;5;124m'\u001b[39m\u001b[38;5;124mpoly_from_expr\u001b[39m\u001b[38;5;124m'\u001b[39m, \u001b[38;5;124m'\u001b[39m\u001b[38;5;124mparallel_poly_from_expr\u001b[39m\u001b[38;5;124m'\u001b[39m, \u001b[38;5;124m'\u001b[39m\u001b[38;5;124mdegree\u001b[39m\u001b[38;5;124m'\u001b[39m,\n\u001b[1;32m      5\u001b[0m     \u001b[38;5;124m'\u001b[39m\u001b[38;5;124mtotal_degree\u001b[39m\u001b[38;5;124m'\u001b[39m, \u001b[38;5;124m'\u001b[39m\u001b[38;5;124mdegree_list\u001b[39m\u001b[38;5;124m'\u001b[39m, \u001b[38;5;124m'\u001b[39m\u001b[38;5;124mLC\u001b[39m\u001b[38;5;124m'\u001b[39m, \u001b[38;5;124m'\u001b[39m\u001b[38;5;124mLM\u001b[39m\u001b[38;5;124m'\u001b[39m, \u001b[38;5;124m'\u001b[39m\u001b[38;5;124mLT\u001b[39m\u001b[38;5;124m'\u001b[39m, \u001b[38;5;124m'\u001b[39m\u001b[38;5;124mpdiv\u001b[39m\u001b[38;5;124m'\u001b[39m, \u001b[38;5;124m'\u001b[39m\u001b[38;5;124mprem\u001b[39m\u001b[38;5;124m'\u001b[39m, \u001b[38;5;124m'\u001b[39m\u001b[38;5;124mpquo\u001b[39m\u001b[38;5;124m'\u001b[39m,\n\u001b[0;32m   (...)\u001b[0m\n\u001b[1;32m     65\u001b[0m     \u001b[38;5;124m'\u001b[39m\u001b[38;5;124mfield\u001b[39m\u001b[38;5;124m'\u001b[39m, \u001b[38;5;124m'\u001b[39m\u001b[38;5;124mxfield\u001b[39m\u001b[38;5;124m'\u001b[39m, \u001b[38;5;124m'\u001b[39m\u001b[38;5;124mvfield\u001b[39m\u001b[38;5;124m'\u001b[39m, \u001b[38;5;124m'\u001b[39m\u001b[38;5;124msfield\u001b[39m\u001b[38;5;124m'\u001b[39m\n\u001b[1;32m     66\u001b[0m ]\n\u001b[1;32m     68\u001b[0m \u001b[38;5;28;01mfrom\u001b[39;00m \u001b[38;5;21;01m.\u001b[39;00m\u001b[38;5;21;01mpolytools\u001b[39;00m \u001b[38;5;28;01mimport\u001b[39;00m (Poly, PurePoly, poly_from_expr,\n\u001b[1;32m     69\u001b[0m         parallel_poly_from_expr, degree, total_degree, degree_list, LC, LM,\n\u001b[1;32m     70\u001b[0m         LT, pdiv, prem, pquo, pexquo, div, rem, quo, exquo, half_gcdex, gcdex,\n\u001b[0;32m   (...)\u001b[0m\n\u001b[1;32m     76\u001b[0m         nth_power_roots_poly, cancel, reduced, groebner, is_zero_dimensional,\n\u001b[1;32m     77\u001b[0m         GroebnerBasis, poly)\n\u001b[0;32m---> 79\u001b[0m \u001b[38;5;28;01mfrom\u001b[39;00m \u001b[38;5;21;01m.\u001b[39;00m\u001b[38;5;21;01mpolyfuncs\u001b[39;00m \u001b[38;5;28;01mimport\u001b[39;00m (symmetrize, horner, interpolate,\n\u001b[1;32m     80\u001b[0m         rational_interpolate, viete)\n\u001b[1;32m     82\u001b[0m \u001b[38;5;28;01mfrom\u001b[39;00m \u001b[38;5;21;01m.\u001b[39;00m\u001b[38;5;21;01mrationaltools\u001b[39;00m \u001b[38;5;28;01mimport\u001b[39;00m together\n\u001b[1;32m     84\u001b[0m \u001b[38;5;28;01mfrom\u001b[39;00m \u001b[38;5;21;01m.\u001b[39;00m\u001b[38;5;21;01mpolyerrors\u001b[39;00m \u001b[38;5;28;01mimport\u001b[39;00m (BasePolynomialError, ExactQuotientFailed,\n\u001b[1;32m     85\u001b[0m         PolynomialDivisionFailed, OperationNotSupported, HeuristicGCDFailed,\n\u001b[1;32m     86\u001b[0m         HomomorphismFailed, IsomorphismFailed, ExtraneousFactors,\n\u001b[0;32m   (...)\u001b[0m\n\u001b[1;32m     91\u001b[0m         MultivariatePolynomialError, PolificationFailed, OptionError,\n\u001b[1;32m     92\u001b[0m         FlagError)\n",
      "File \u001b[0;32m~/anaconda3/envs/HALLM/lib/python3.10/site-packages/sympy/polys/polyfuncs.py:10\u001b[0m\n\u001b[1;32m      8\u001b[0m \u001b[38;5;28;01mfrom\u001b[39;00m \u001b[38;5;21;01msympy\u001b[39;00m\u001b[38;5;21;01m.\u001b[39;00m\u001b[38;5;21;01mpolys\u001b[39;00m\u001b[38;5;21;01m.\u001b[39;00m\u001b[38;5;21;01mpolyoptions\u001b[39;00m \u001b[38;5;28;01mimport\u001b[39;00m allowed_flags, build_options\n\u001b[1;32m      9\u001b[0m \u001b[38;5;28;01mfrom\u001b[39;00m \u001b[38;5;21;01msympy\u001b[39;00m\u001b[38;5;21;01m.\u001b[39;00m\u001b[38;5;21;01mpolys\u001b[39;00m\u001b[38;5;21;01m.\u001b[39;00m\u001b[38;5;21;01mpolytools\u001b[39;00m \u001b[38;5;28;01mimport\u001b[39;00m poly_from_expr, Poly\n\u001b[0;32m---> 10\u001b[0m \u001b[38;5;28;01mfrom\u001b[39;00m \u001b[38;5;21;01msympy\u001b[39;00m\u001b[38;5;21;01m.\u001b[39;00m\u001b[38;5;21;01mpolys\u001b[39;00m\u001b[38;5;21;01m.\u001b[39;00m\u001b[38;5;21;01mspecialpolys\u001b[39;00m \u001b[38;5;28;01mimport\u001b[39;00m (\n\u001b[1;32m     11\u001b[0m     symmetric_poly, interpolating_poly)\n\u001b[1;32m     12\u001b[0m \u001b[38;5;28;01mfrom\u001b[39;00m \u001b[38;5;21;01msympy\u001b[39;00m\u001b[38;5;21;01m.\u001b[39;00m\u001b[38;5;21;01mpolys\u001b[39;00m\u001b[38;5;21;01m.\u001b[39;00m\u001b[38;5;21;01mrings\u001b[39;00m \u001b[38;5;28;01mimport\u001b[39;00m sring\n\u001b[1;32m     13\u001b[0m \u001b[38;5;28;01mfrom\u001b[39;00m \u001b[38;5;21;01msympy\u001b[39;00m\u001b[38;5;21;01m.\u001b[39;00m\u001b[38;5;21;01mutilities\u001b[39;00m \u001b[38;5;28;01mimport\u001b[39;00m numbered_symbols, take, public\n",
      "File \u001b[0;32m~/anaconda3/envs/HALLM/lib/python3.10/site-packages/sympy/polys/specialpolys.py:298\u001b[0m\n\u001b[1;32m    294\u001b[0m     \u001b[38;5;28;01mreturn\u001b[39;00m dmp_mul(f, h, n, K), dmp_mul(g, h, n, K), h\n\u001b[1;32m    296\u001b[0m \u001b[38;5;66;03m# A few useful polynomials from Wang's paper ('78).\u001b[39;00m\n\u001b[0;32m--> 298\u001b[0m \u001b[38;5;28;01mfrom\u001b[39;00m \u001b[38;5;21;01msympy\u001b[39;00m\u001b[38;5;21;01m.\u001b[39;00m\u001b[38;5;21;01mpolys\u001b[39;00m\u001b[38;5;21;01m.\u001b[39;00m\u001b[38;5;21;01mrings\u001b[39;00m \u001b[38;5;28;01mimport\u001b[39;00m ring\n\u001b[1;32m    300\u001b[0m \u001b[38;5;28;01mdef\u001b[39;00m \u001b[38;5;21m_f_0\u001b[39m():\n\u001b[1;32m    301\u001b[0m     R, x, y, z \u001b[38;5;241m=\u001b[39m ring(\u001b[38;5;124m\"\u001b[39m\u001b[38;5;124mx,y,z\u001b[39m\u001b[38;5;124m\"\u001b[39m, ZZ)\n",
      "File \u001b[0;32m~/anaconda3/envs/HALLM/lib/python3.10/site-packages/sympy/polys/rings.py:30\u001b[0m\n\u001b[1;32m     26\u001b[0m \u001b[38;5;28;01mfrom\u001b[39;00m \u001b[38;5;21;01msympy\u001b[39;00m\u001b[38;5;21;01m.\u001b[39;00m\u001b[38;5;21;01mpolys\u001b[39;00m\u001b[38;5;21;01m.\u001b[39;00m\u001b[38;5;21;01mpolyoptions\u001b[39;00m \u001b[38;5;28;01mimport\u001b[39;00m (Domain \u001b[38;5;28;01mas\u001b[39;00m DomainOpt,\n\u001b[1;32m     27\u001b[0m                                      Order \u001b[38;5;28;01mas\u001b[39;00m OrderOpt, build_options)\n\u001b[1;32m     28\u001b[0m \u001b[38;5;28;01mfrom\u001b[39;00m \u001b[38;5;21;01msympy\u001b[39;00m\u001b[38;5;21;01m.\u001b[39;00m\u001b[38;5;21;01mpolys\u001b[39;00m\u001b[38;5;21;01m.\u001b[39;00m\u001b[38;5;21;01mpolyutils\u001b[39;00m \u001b[38;5;28;01mimport\u001b[39;00m (expr_from_dict, _dict_reorder,\n\u001b[1;32m     29\u001b[0m                                    _parallel_dict_from_expr)\n\u001b[0;32m---> 30\u001b[0m \u001b[38;5;28;01mfrom\u001b[39;00m \u001b[38;5;21;01msympy\u001b[39;00m\u001b[38;5;21;01m.\u001b[39;00m\u001b[38;5;21;01mprinting\u001b[39;00m\u001b[38;5;21;01m.\u001b[39;00m\u001b[38;5;21;01mdefaults\u001b[39;00m \u001b[38;5;28;01mimport\u001b[39;00m DefaultPrinting\n\u001b[1;32m     31\u001b[0m \u001b[38;5;28;01mfrom\u001b[39;00m \u001b[38;5;21;01msympy\u001b[39;00m\u001b[38;5;21;01m.\u001b[39;00m\u001b[38;5;21;01mutilities\u001b[39;00m \u001b[38;5;28;01mimport\u001b[39;00m public, subsets\n\u001b[1;32m     32\u001b[0m \u001b[38;5;28;01mfrom\u001b[39;00m \u001b[38;5;21;01msympy\u001b[39;00m\u001b[38;5;21;01m.\u001b[39;00m\u001b[38;5;21;01mutilities\u001b[39;00m\u001b[38;5;21;01m.\u001b[39;00m\u001b[38;5;21;01miterables\u001b[39;00m \u001b[38;5;28;01mimport\u001b[39;00m is_sequence\n",
      "File \u001b[0;32m~/anaconda3/envs/HALLM/lib/python3.10/site-packages/sympy/printing/__init__.py:3\u001b[0m\n\u001b[1;32m      1\u001b[0m \u001b[38;5;124;03m\"\"\"Printing subsystem\"\"\"\u001b[39;00m\n\u001b[0;32m----> 3\u001b[0m \u001b[38;5;28;01mfrom\u001b[39;00m \u001b[38;5;21;01m.\u001b[39;00m\u001b[38;5;21;01mpretty\u001b[39;00m \u001b[38;5;28;01mimport\u001b[39;00m pager_print, pretty, pretty_print, pprint, pprint_use_unicode, pprint_try_use_unicode\n\u001b[1;32m      5\u001b[0m \u001b[38;5;28;01mfrom\u001b[39;00m \u001b[38;5;21;01m.\u001b[39;00m\u001b[38;5;21;01mlatex\u001b[39;00m \u001b[38;5;28;01mimport\u001b[39;00m latex, print_latex, multiline_latex\n\u001b[1;32m      7\u001b[0m \u001b[38;5;28;01mfrom\u001b[39;00m \u001b[38;5;21;01m.\u001b[39;00m\u001b[38;5;21;01mmathml\u001b[39;00m \u001b[38;5;28;01mimport\u001b[39;00m mathml, print_mathml\n",
      "File \u001b[0;32m~/anaconda3/envs/HALLM/lib/python3.10/site-packages/sympy/printing/pretty/__init__.py:3\u001b[0m\n\u001b[1;32m      1\u001b[0m \u001b[38;5;124;03m\"\"\"ASCII-ART 2D pretty-printer\"\"\"\u001b[39;00m\n\u001b[0;32m----> 3\u001b[0m \u001b[38;5;28;01mfrom\u001b[39;00m \u001b[38;5;21;01m.\u001b[39;00m\u001b[38;5;21;01mpretty\u001b[39;00m \u001b[38;5;28;01mimport\u001b[39;00m (pretty, pretty_print, pprint, pprint_use_unicode,\n\u001b[1;32m      4\u001b[0m     pprint_try_use_unicode, pager_print)\n\u001b[1;32m      6\u001b[0m \u001b[38;5;66;03m# if unicode output is available -- let's use it\u001b[39;00m\n\u001b[1;32m      7\u001b[0m pprint_try_use_unicode()\n",
      "File \u001b[0;32m~/anaconda3/envs/HALLM/lib/python3.10/site-packages/sympy/printing/pretty/pretty.py:15\u001b[0m\n\u001b[1;32m     13\u001b[0m \u001b[38;5;28;01mfrom\u001b[39;00m \u001b[38;5;21;01msympy\u001b[39;00m\u001b[38;5;21;01m.\u001b[39;00m\u001b[38;5;21;01mprinting\u001b[39;00m\u001b[38;5;21;01m.\u001b[39;00m\u001b[38;5;21;01mconventions\u001b[39;00m \u001b[38;5;28;01mimport\u001b[39;00m requires_partial\n\u001b[1;32m     14\u001b[0m \u001b[38;5;28;01mfrom\u001b[39;00m \u001b[38;5;21;01msympy\u001b[39;00m\u001b[38;5;21;01m.\u001b[39;00m\u001b[38;5;21;01mprinting\u001b[39;00m\u001b[38;5;21;01m.\u001b[39;00m\u001b[38;5;21;01mprecedence\u001b[39;00m \u001b[38;5;28;01mimport\u001b[39;00m PRECEDENCE, precedence, precedence_traditional\n\u001b[0;32m---> 15\u001b[0m \u001b[38;5;28;01mfrom\u001b[39;00m \u001b[38;5;21;01msympy\u001b[39;00m\u001b[38;5;21;01m.\u001b[39;00m\u001b[38;5;21;01mprinting\u001b[39;00m\u001b[38;5;21;01m.\u001b[39;00m\u001b[38;5;21;01mprinter\u001b[39;00m \u001b[38;5;28;01mimport\u001b[39;00m Printer, print_function\n\u001b[1;32m     16\u001b[0m \u001b[38;5;28;01mfrom\u001b[39;00m \u001b[38;5;21;01msympy\u001b[39;00m\u001b[38;5;21;01m.\u001b[39;00m\u001b[38;5;21;01mprinting\u001b[39;00m\u001b[38;5;21;01m.\u001b[39;00m\u001b[38;5;21;01mstr\u001b[39;00m \u001b[38;5;28;01mimport\u001b[39;00m sstr\n\u001b[1;32m     17\u001b[0m \u001b[38;5;28;01mfrom\u001b[39;00m \u001b[38;5;21;01msympy\u001b[39;00m\u001b[38;5;21;01m.\u001b[39;00m\u001b[38;5;21;01mutilities\u001b[39;00m\u001b[38;5;21;01m.\u001b[39;00m\u001b[38;5;21;01miterables\u001b[39;00m \u001b[38;5;28;01mimport\u001b[39;00m has_variety\n",
      "File \u001b[0;32m~/anaconda3/envs/HALLM/lib/python3.10/site-packages/sympy/printing/printer.py:352\u001b[0m\n\u001b[1;32m    348\u001b[0m         \u001b[38;5;28;01melse\u001b[39;00m:\n\u001b[1;32m    349\u001b[0m             \u001b[38;5;28;01mreturn\u001b[39;00m expr\u001b[38;5;241m.\u001b[39mas_ordered_terms(order\u001b[38;5;241m=\u001b[39morder)\n\u001b[0;32m--> 352\u001b[0m \u001b[38;5;28;01mclass\u001b[39;00m \u001b[38;5;21;01m_PrintFunction\u001b[39;00m:\n\u001b[1;32m    353\u001b[0m \u001b[38;5;250m    \u001b[39m\u001b[38;5;124;03m\"\"\"\u001b[39;00m\n\u001b[1;32m    354\u001b[0m \u001b[38;5;124;03m    Function wrapper to replace ``**settings`` in the signature with printer defaults\u001b[39;00m\n\u001b[1;32m    355\u001b[0m \u001b[38;5;124;03m    \"\"\"\u001b[39;00m\n\u001b[1;32m    356\u001b[0m     \u001b[38;5;28;01mdef\u001b[39;00m \u001b[38;5;21m__init__\u001b[39m(\u001b[38;5;28mself\u001b[39m, f, print_cls: Type[Printer]):\n\u001b[1;32m    357\u001b[0m         \u001b[38;5;66;03m# find all the non-setting arguments\u001b[39;00m\n",
      "\u001b[0;31mKeyboardInterrupt\u001b[0m: "
     ]
    }
   ],
   "source": [
    "import argparse\n",
    "from omegaconf import OmegaConf\n",
    "\n",
    "import os\n",
    "import pandas as pd\n",
    "\n",
    "import torch\n",
    "import torch.nn as nn\n",
    "from torch.utils.data import DataLoader, TensorDataset\n",
    "from sklearn.metrics import accuracy_score, precision_score, recall_score, f1_score\n",
    "from tqdm import tqdm, trange\n",
    "from classifiers.linear_classifier import LinearClassifier\n",
    "\n",
    "from msclap import CLAP"
   ]
  },
  {
   "cell_type": "code",
   "execution_count": null,
   "metadata": {},
   "outputs": [],
   "source": [
    "model_cfg = \"./configs/CLAP_linear_classifier.yaml\"\n",
    "model_name = \"CLAP23\"\n",
    "classifier = \"linear\"\n",
    "data_dir = \"./data\"\n",
    "base_dir = \"./\"\n",
    "\n",
    "cfg = OmegaConf.load(model_cfg)\n",
    "\n",
    "clap_model = CLAP(version = '2023', use_cuda=False)"
   ]
  },
  {
   "cell_type": "markdown",
   "metadata": {},
   "source": [
    "## funtion"
   ]
  },
  {
   "cell_type": "code",
   "execution_count": null,
   "metadata": {},
   "outputs": [],
   "source": [
    "def load_data(file_path):\n",
    "    df = pd.read_csv(file_path)\n",
    "    audio_paths = df['Audio file'].tolist()\n",
    "    text_prompts = df['Hypothesis'].tolist()\n",
    "    labels = df['Label'].tolist()\n",
    "    return audio_paths, text_prompts, labels\n",
    "\n",
    "def process_embeddings(audio_paths, text_prompts):\n",
    "    embeddings = []\n",
    "    missing_files =[]\n",
    "    audio_path = None\n",
    "    for i in tqdm(range(len(audio_paths)), desc=\"Processing Embeddings\"):\n",
    "        if audio_paths[i] != audio_path:\n",
    "            if os.path.isfile(audio_paths[i]):\n",
    "                audio_embeddings = clap_model.get_audio_embeddings([audio_paths[i]])\n",
    "                audio_path = audio_paths[i]\n",
    "            else:\n",
    "                print(f\"File not found: {audio_paths[i]}\")\n",
    "                missing_files.append(i)\n",
    "                continue\n",
    "        text_embeddings = clap_model.get_text_embeddings([text_prompts[i]])\n",
    "\n",
    "        concat_embeddings = torch.cat((audio_embeddings, text_embeddings), dim=1)\n",
    "        embeddings.append(concat_embeddings)\n",
    "    return embeddings, missing_files"
   ]
  },
  {
   "cell_type": "markdown",
   "metadata": {},
   "source": [
    "# DATA PROCESSING"
   ]
  },
  {
   "cell_type": "code",
   "execution_count": 4,
   "metadata": {},
   "outputs": [
    {
     "ename": "NameError",
     "evalue": "name 'cfg' is not defined",
     "output_type": "error",
     "traceback": [
      "\u001b[0;31m---------------------------------------------------------------------------\u001b[0m",
      "\u001b[0;31mNameError\u001b[0m                                 Traceback (most recent call last)",
      "Cell \u001b[0;32mIn[4], line 2\u001b[0m\n\u001b[1;32m      1\u001b[0m \u001b[38;5;66;03m# Get CLAP23 Embeddings from obtained ckpt\u001b[39;00m\n\u001b[0;32m----> 2\u001b[0m data_dir \u001b[38;5;241m=\u001b[39m os\u001b[38;5;241m.\u001b[39mpath\u001b[38;5;241m.\u001b[39mjoin(\u001b[43mcfg\u001b[49m\u001b[38;5;241m.\u001b[39mdata_dir, \u001b[38;5;124m\"\u001b[39m\u001b[38;5;124mClotho/entailment\u001b[39m\u001b[38;5;124m\"\u001b[39m)\n\u001b[1;32m      3\u001b[0m audio_paths, text_prompts, train_labels \u001b[38;5;241m=\u001b[39m load_data(os\u001b[38;5;241m.\u001b[39mpath\u001b[38;5;241m.\u001b[39mjoin(data_dir,\u001b[38;5;124m'\u001b[39m\u001b[38;5;124mflattened_clotho_development_gpt4.csv\u001b[39m\u001b[38;5;124m'\u001b[39m))\n\u001b[1;32m      4\u001b[0m train_embeddings, missing_train \u001b[38;5;241m=\u001b[39m process_embeddings(audio_paths, text_prompts)\n",
      "\u001b[0;31mNameError\u001b[0m: name 'cfg' is not defined"
     ]
    }
   ],
   "source": [
    "\n",
    "# Get CLAP23 Embeddings from obtained ckpt\n",
    "data_dir = os.path.join(cfg.data_dir, \"Clotho/entailment\")\n",
    "audio_paths, text_prompts, train_labels = load_data(os.path.join(data_dir,'flattened_clotho_development_gpt4.csv'))\n",
    "train_embeddings, missing_train = process_embeddings(audio_paths, text_prompts)\n",
    "val_audio_paths, val_text_prompts, val_labels = load_data(os.path.join(data_dir, 'flattened_clotho_validation_gpt4.csv'))\n",
    "val_embeddings, missing_val = process_embeddings(val_audio_paths, val_text_prompts)\n",
    "eval_audio_paths, eval_text_prompts, eval_labels = load_data(os.path.join(data_dir, 'flattened_clotho_evaluation_gpt4.csv'))\n",
    "eval_embeddings, missing_eval  = process_embeddings(eval_audio_paths, eval_text_prompts)\n",
    "\n",
    "train_labels = [label for i, label in enumerate(train_labels) if i not in missing_train]\n",
    "val_labels = [label for i, label in enumerate(val_labels) if i not in missing_val]\n",
    "eval_labels = [label for i, label in enumerate(eval_labels) if i not in missing_eval]\n",
    "\n",
    "train_embeddings_tensor = torch.stack(train_embeddings).squeeze(1)\n",
    "val_embeddings_tensor = torch.stack(val_embeddings).squeeze(1)\n",
    "eval_embeddings_tensor = torch.stack(eval_embeddings).squeeze(1)\n",
    "\n",
    "train_labels_tensor = torch.tensor(train_labels, dtype=torch.long)\n",
    "val_labels_tensor = torch.tensor(val_labels, dtype=torch.long)\n",
    "test_labels_tensor = torch.tensor(eval_labels, dtype=torch.long)\n",
    "\n",
    "# Create DataLoaders\n",
    "train_dataset = TensorDataset(train_embeddings_tensor, train_labels_tensor)\n",
    "train_loader = DataLoader(train_dataset,\n",
    "                            batch_size=cfg.batch_size,\n",
    "                            shuffle=True,\n",
    "                            num_workers=cfg.num_workers)\n",
    "val_dataset = TensorDataset(val_embeddings_tensor, val_labels_tensor)\n",
    "val_loader = DataLoader(val_dataset,\n",
    "                            batch_size=cfg.batch_size,\n",
    "                            num_workers=cfg.num_workers)\n",
    "test_dataset = TensorDataset(eval_embeddings_tensor, test_labels_tensor)\n",
    "test_loader = DataLoader(test_dataset,\n",
    "                            batch_size=cfg.batch_size,\n",
    "                            num_workers=cfg.num_workers)\n",
    "\n",
    "assert len(train_embeddings[0]) == len(train_embeddings[1]), \"Input Sizes are not Consistent!!\""
   ]
  },
  {
   "cell_type": "code",
   "execution_count": null,
   "metadata": {},
   "outputs": [],
   "source": [
    "def save_checkpoint(name='latest.pt', ckpt_path=None, cfg=None, model=None, optimizer=None, lr_scheduler=None, cur_epoch=None):\n",
    "        ckpt_path = os.path.join(ckpt_path, f\"{name}\")\n",
    "        ckpt = {\n",
    "            'cfg' : cfg,\n",
    "            'model' : model.state_dict(),\n",
    "            'optimizer' : optimizer,\n",
    "            'lr_scheduler' : lr_scheduler,\n",
    "            'cur_epoch' : cur_epoch\n",
    "        }\n",
    "        torch.save(ckpt, ckpt_path)\n",
    "        print(f\"{ckpt_path} has been saved.\")\n",
    "def load_checkpoint(name='latest.pt', ckpt_path=None, model=None, optimizer=None, lr_scheduler=None, cur_epoch=None):\n",
    "    ckpt_path = os.path.join(ckpt_path, f\"{name}\")\n",
    "    ckpt = torch.load(ckpt_path, map_location='cpu')\n",
    "    print(model.load_state_dict(ckpt['model']))\n",
    "    optimizer.load_state_dict(ckpt['optimizer'])\n",
    "    lr_scheduler.load_state_dict(ckpt['lr_scheduler'])\n",
    "    cur_epoch = ckpt['cur_epoch']\n",
    "    return model, optimizer, lr_scheduler, cur_epoch\n",
    "    \n",
    "ckpt_path = os.path.join(data_dir, \"checkpoints\")\n",
    "os.makedirs(ckpt_path, exist_ok=True)\n",
    "\n",
    "device = torch.device(\"cuda\" if torch.cuda.is_available() else \"cpu\")\n",
    "# Import Classifier Model, currently only Linear\n",
    "model = LinearClassifier(input_dim=max(train_embeddings[0].shape)).to(device)\n",
    "criterion = nn.CrossEntropyLoss()\n",
    "optimizer = torch.optim.Adam(\n",
    "    model.parameters(),\n",
    "    lr=cfg.lr\n",
    ")\n",
    "\n",
    "lr_scheduler = None #not implemented\n",
    "cur_epoch = 0\n",
    "\n",
    "# Resume Training\n",
    "ckpt_path = os.path.join(ckpt_path, f\"{cfg.resume_ckpt}\")\n",
    "if cfg.resume and os.path.exist(ckpt_path):\n",
    "    print(f\"Resume from checkpoint {ckpt_path}\")\n",
    "    model, optimizer, lr_scheduler, cur_epoch = load_checkpoint(cfg.resume_ckpt, ckpt_path, model, optimizer, lr_scheduler, cur_epoch)"
   ]
  },
  {
   "cell_type": "markdown",
   "metadata": {},
   "source": [
    "# TRAIN"
   ]
  },
  {
   "cell_type": "code",
   "execution_count": 74,
   "metadata": {},
   "outputs": [],
   "source": [
    "@torch.no_grad()\n",
    "def evaluate(dataloader):\n",
    "    model.eval()\n",
    "    val_predictions = []\n",
    "    val_labels_list = []\n",
    "    with torch.no_grad():\n",
    "        for embeddings, labels in dataloader:\n",
    "            embeddings = embeddings.to(device)\n",
    "            outputs = model(embeddings)\n",
    "            _, predicted = torch.max(outputs, 1)\n",
    "            val_predictions.extend(predicted.cpu().numpy())\n",
    "            val_labels_list.extend(labels.numpy())\n",
    "\n",
    "    accuracy = accuracy_score(val_labels_list, val_predictions)\n",
    "    precision = precision_score(val_labels_list, val_predictions, average='macro')\n",
    "    recall = recall_score(val_labels_list, val_predictions, average='macro')\n",
    "    f1 = f1_score(val_labels_list, val_predictions, average='macro')\n",
    "    return f1, accuracy, precision, recall\n"
   ]
  },
  {
   "cell_type": "code",
   "execution_count": null,
   "metadata": {},
   "outputs": [],
   "source": [
    "tq = trange(\n",
    "    cur_epoch,\n",
    "    cfg.epochs,\n",
    "    desc='Training'\n",
    ")\n",
    "model.train()\n",
    "for i in tq :\n",
    "    for (embeddings,labels) in train_loader :\n",
    "        embeddings, labels = embeddings.to(device), labels.to(device)\n",
    "        # Forward pass\n",
    "        outputs = model(embeddings)\n",
    "        loss = criterion(outputs, labels)\n",
    "\n",
    "        # Backward and optimize\n",
    "        optimizer.zero_grad()\n",
    "        loss.backward()\n",
    "        optimizer.step()\n",
    "        if lr_scheduler is not None :\n",
    "            lr_scheduler.step()\n",
    "\n",
    "    val_f1, val_accuracy, val_precision, val_recall = evaluate(val_loader)\n",
    "    print(f\"Epoch [{cur_epoch + 1}/{cfg.epochs}], F1 : {val_f1:.4f} | Accuracy: {val_accuracy:.4f} | Precision : {val_precision:.4f} | Recall : {val_recall:.4f}\")\n",
    "\n",
    "save_checkpoint(name=f\"CLAP23_Linear_{cur_epoch}_{cfg.lr}.pt\", ckpt_path=base_dir, cfg=cfg, model=model, optimizer=optimizer, lr_scheduler=lr_scheduler, cur_epoch=cur_epoch)\n",
    "test_f1, test_accuracy, test_precision, test_recall = evaluate(test_loader)\n",
    "print(f\"Test Scores _ F1 : {test_f1} | accuracy : {test_accuracy} | precision : {test_precision} | recall : {test_recall}\")"
   ]
  },
  {
   "cell_type": "markdown",
   "metadata": {},
   "source": [
    "## Evaluation on Test set"
   ]
  },
  {
   "cell_type": "code",
   "execution_count": 76,
   "metadata": {},
   "outputs": [
    {
     "name": "stdout",
     "output_type": "stream",
     "text": [
      "Test Accuracy: 0.8463\n",
      "Test Precision: 0.8464\n",
      "Test Recall: 0.8463\n",
      "Test F1 Score: 0.8463\n"
     ]
    }
   ],
   "source": [
    "test_predictions = []\n",
    "test_labels_list = []\n",
    "with torch.no_grad():\n",
    "    for embeddings, labels in test_loader:\n",
    "        embeddings = embeddings.to(device)\n",
    "        outputs = model(embeddings)\n",
    "        _, predicted = torch.max(outputs, 1)\n",
    "        test_predictions.extend(predicted.cpu().numpy())\n",
    "        test_labels_list.extend(labels.numpy())\n",
    "\n",
    "# Calculate evaluation metrics\n",
    "test_accuracy = accuracy_score(test_labels_list, test_predictions)\n",
    "test_precision = precision_score(test_labels_list, test_predictions, average='macro')\n",
    "test_recall = recall_score(test_labels_list, test_predictions, average='macro')\n",
    "test_f1 = f1_score(test_labels_list, test_predictions, average='macro')\n",
    "\n",
    "print(f\"Test Accuracy: {test_accuracy:.4f}\")\n",
    "print(f\"Test Precision: {test_precision:.4f}\")\n",
    "print(f\"Test Recall: {test_recall:.4f}\")\n",
    "print(f\"Test F1 Score: {test_f1:.4f}\")\n"
   ]
  },
  {
   "cell_type": "code",
   "execution_count": 79,
   "metadata": {},
   "outputs": [],
   "source": [
    "import numpy as np\n",
    "class_accuracies = {}\n",
    "for class_label in [0, 1, 2]:  # Assuming 0: Entailment, 1: Neutral, 2: Contradiction\n",
    "    correct_class_preds = sum((np.array(test_predictions) == class_label) & (np.array(test_labels_list) == class_label))\n",
    "    total_class_samples = sum(np.array(test_labels_list) == class_label)\n",
    "    class_accuracies[class_label] = correct_class_preds / total_class_samples if total_class_samples > 0 else 0.0\n"
   ]
  },
  {
   "cell_type": "code",
   "execution_count": null,
   "metadata": {},
   "outputs": [
    {
     "name": "stdout",
     "output_type": "stream",
     "text": [
      "  Entailment (0): 0.8392\n",
      "  Neutral (1): 0.8230\n",
      "  Contradiction (2): 0.8766\n"
     ]
    }
   ],
   "source": [
    "print(f\"  Entailment (0): {class_accuracies[0]:.4f}\")\n",
    "print(f\"  Neutral (1): {class_accuracies[1]:.4f}\")\n",
    "print(f\"  Contradiction (2): {class_accuracies[2]:.4f}\")"
   ]
  },
  {
   "cell_type": "code",
   "execution_count": null,
   "metadata": {},
   "outputs": [],
   "source": []
  }
 ],
 "metadata": {
  "kernelspec": {
   "display_name": "HALLM",
   "language": "python",
   "name": "python3"
  },
  "language_info": {
   "codemirror_mode": {
    "name": "ipython",
    "version": 3
   },
   "file_extension": ".py",
   "mimetype": "text/x-python",
   "name": "python",
   "nbconvert_exporter": "python",
   "pygments_lexer": "ipython3",
   "version": "3.10.15"
  }
 },
 "nbformat": 4,
 "nbformat_minor": 2
}
