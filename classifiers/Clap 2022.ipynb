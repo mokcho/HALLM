{
  "nbformat": 4,
  "nbformat_minor": 0,
  "metadata": {
    "colab": {
      "provenance": [],
      "machine_shape": "hm",
      "gpuType": "T4",
      "collapsed_sections": [
        "Rhpt9WT_XZTB",
        "62ArIo2JctqY"
      ]
    },
    "kernelspec": {
      "name": "python3",
      "display_name": "Python 3"
    },
    "language_info": {
      "name": "python"
    },
    "accelerator": "GPU",
    "widgets": {
      "application/vnd.jupyter.widget-state+json": {
        "ff370c5bfb5c4584b94d56b77c5f9668": {
          "model_module": "@jupyter-widgets/controls",
          "model_name": "HBoxModel",
          "model_module_version": "1.5.0",
          "state": {
            "_dom_classes": [],
            "_model_module": "@jupyter-widgets/controls",
            "_model_module_version": "1.5.0",
            "_model_name": "HBoxModel",
            "_view_count": null,
            "_view_module": "@jupyter-widgets/controls",
            "_view_module_version": "1.5.0",
            "_view_name": "HBoxView",
            "box_style": "",
            "children": [
              "IPY_MODEL_2a6322e25cd64d638b8a4a582eef8fe3",
              "IPY_MODEL_f9c68fa6c6f54cc2a780e303081401c9",
              "IPY_MODEL_88b584698e0e45d7b9e11067e97df508"
            ],
            "layout": "IPY_MODEL_9a0f50c875cc4b7b8d33cfb07ec0bd04"
          }
        },
        "2a6322e25cd64d638b8a4a582eef8fe3": {
          "model_module": "@jupyter-widgets/controls",
          "model_name": "HTMLModel",
          "model_module_version": "1.5.0",
          "state": {
            "_dom_classes": [],
            "_model_module": "@jupyter-widgets/controls",
            "_model_module_version": "1.5.0",
            "_model_name": "HTMLModel",
            "_view_count": null,
            "_view_module": "@jupyter-widgets/controls",
            "_view_module_version": "1.5.0",
            "_view_name": "HTMLView",
            "description": "",
            "description_tooltip": null,
            "layout": "IPY_MODEL_b86fcad39baf4e66816ca832a79005bb",
            "placeholder": "​",
            "style": "IPY_MODEL_3dc063e9276a4ba18d117cbe2ca2bee2",
            "value": "CLAP_weights_2022.pth: 100%"
          }
        },
        "f9c68fa6c6f54cc2a780e303081401c9": {
          "model_module": "@jupyter-widgets/controls",
          "model_name": "FloatProgressModel",
          "model_module_version": "1.5.0",
          "state": {
            "_dom_classes": [],
            "_model_module": "@jupyter-widgets/controls",
            "_model_module_version": "1.5.0",
            "_model_name": "FloatProgressModel",
            "_view_count": null,
            "_view_module": "@jupyter-widgets/controls",
            "_view_module_version": "1.5.0",
            "_view_name": "ProgressView",
            "bar_style": "success",
            "description": "",
            "description_tooltip": null,
            "layout": "IPY_MODEL_7eff330a95434f1ca012be697aba3886",
            "max": 2333972488,
            "min": 0,
            "orientation": "horizontal",
            "style": "IPY_MODEL_5f7cd1d1420a43a49ace57fa0b84ea51",
            "value": 2333972488
          }
        },
        "88b584698e0e45d7b9e11067e97df508": {
          "model_module": "@jupyter-widgets/controls",
          "model_name": "HTMLModel",
          "model_module_version": "1.5.0",
          "state": {
            "_dom_classes": [],
            "_model_module": "@jupyter-widgets/controls",
            "_model_module_version": "1.5.0",
            "_model_name": "HTMLModel",
            "_view_count": null,
            "_view_module": "@jupyter-widgets/controls",
            "_view_module_version": "1.5.0",
            "_view_name": "HTMLView",
            "description": "",
            "description_tooltip": null,
            "layout": "IPY_MODEL_c9078cc69356485d9ce3d06180841dab",
            "placeholder": "​",
            "style": "IPY_MODEL_798bee6621f44d9e8b678c52d4c885a5",
            "value": " 2.33G/2.33G [00:40&lt;00:00, 57.5MB/s]"
          }
        },
        "9a0f50c875cc4b7b8d33cfb07ec0bd04": {
          "model_module": "@jupyter-widgets/base",
          "model_name": "LayoutModel",
          "model_module_version": "1.2.0",
          "state": {
            "_model_module": "@jupyter-widgets/base",
            "_model_module_version": "1.2.0",
            "_model_name": "LayoutModel",
            "_view_count": null,
            "_view_module": "@jupyter-widgets/base",
            "_view_module_version": "1.2.0",
            "_view_name": "LayoutView",
            "align_content": null,
            "align_items": null,
            "align_self": null,
            "border": null,
            "bottom": null,
            "display": null,
            "flex": null,
            "flex_flow": null,
            "grid_area": null,
            "grid_auto_columns": null,
            "grid_auto_flow": null,
            "grid_auto_rows": null,
            "grid_column": null,
            "grid_gap": null,
            "grid_row": null,
            "grid_template_areas": null,
            "grid_template_columns": null,
            "grid_template_rows": null,
            "height": null,
            "justify_content": null,
            "justify_items": null,
            "left": null,
            "margin": null,
            "max_height": null,
            "max_width": null,
            "min_height": null,
            "min_width": null,
            "object_fit": null,
            "object_position": null,
            "order": null,
            "overflow": null,
            "overflow_x": null,
            "overflow_y": null,
            "padding": null,
            "right": null,
            "top": null,
            "visibility": null,
            "width": null
          }
        },
        "b86fcad39baf4e66816ca832a79005bb": {
          "model_module": "@jupyter-widgets/base",
          "model_name": "LayoutModel",
          "model_module_version": "1.2.0",
          "state": {
            "_model_module": "@jupyter-widgets/base",
            "_model_module_version": "1.2.0",
            "_model_name": "LayoutModel",
            "_view_count": null,
            "_view_module": "@jupyter-widgets/base",
            "_view_module_version": "1.2.0",
            "_view_name": "LayoutView",
            "align_content": null,
            "align_items": null,
            "align_self": null,
            "border": null,
            "bottom": null,
            "display": null,
            "flex": null,
            "flex_flow": null,
            "grid_area": null,
            "grid_auto_columns": null,
            "grid_auto_flow": null,
            "grid_auto_rows": null,
            "grid_column": null,
            "grid_gap": null,
            "grid_row": null,
            "grid_template_areas": null,
            "grid_template_columns": null,
            "grid_template_rows": null,
            "height": null,
            "justify_content": null,
            "justify_items": null,
            "left": null,
            "margin": null,
            "max_height": null,
            "max_width": null,
            "min_height": null,
            "min_width": null,
            "object_fit": null,
            "object_position": null,
            "order": null,
            "overflow": null,
            "overflow_x": null,
            "overflow_y": null,
            "padding": null,
            "right": null,
            "top": null,
            "visibility": null,
            "width": null
          }
        },
        "3dc063e9276a4ba18d117cbe2ca2bee2": {
          "model_module": "@jupyter-widgets/controls",
          "model_name": "DescriptionStyleModel",
          "model_module_version": "1.5.0",
          "state": {
            "_model_module": "@jupyter-widgets/controls",
            "_model_module_version": "1.5.0",
            "_model_name": "DescriptionStyleModel",
            "_view_count": null,
            "_view_module": "@jupyter-widgets/base",
            "_view_module_version": "1.2.0",
            "_view_name": "StyleView",
            "description_width": ""
          }
        },
        "7eff330a95434f1ca012be697aba3886": {
          "model_module": "@jupyter-widgets/base",
          "model_name": "LayoutModel",
          "model_module_version": "1.2.0",
          "state": {
            "_model_module": "@jupyter-widgets/base",
            "_model_module_version": "1.2.0",
            "_model_name": "LayoutModel",
            "_view_count": null,
            "_view_module": "@jupyter-widgets/base",
            "_view_module_version": "1.2.0",
            "_view_name": "LayoutView",
            "align_content": null,
            "align_items": null,
            "align_self": null,
            "border": null,
            "bottom": null,
            "display": null,
            "flex": null,
            "flex_flow": null,
            "grid_area": null,
            "grid_auto_columns": null,
            "grid_auto_flow": null,
            "grid_auto_rows": null,
            "grid_column": null,
            "grid_gap": null,
            "grid_row": null,
            "grid_template_areas": null,
            "grid_template_columns": null,
            "grid_template_rows": null,
            "height": null,
            "justify_content": null,
            "justify_items": null,
            "left": null,
            "margin": null,
            "max_height": null,
            "max_width": null,
            "min_height": null,
            "min_width": null,
            "object_fit": null,
            "object_position": null,
            "order": null,
            "overflow": null,
            "overflow_x": null,
            "overflow_y": null,
            "padding": null,
            "right": null,
            "top": null,
            "visibility": null,
            "width": null
          }
        },
        "5f7cd1d1420a43a49ace57fa0b84ea51": {
          "model_module": "@jupyter-widgets/controls",
          "model_name": "ProgressStyleModel",
          "model_module_version": "1.5.0",
          "state": {
            "_model_module": "@jupyter-widgets/controls",
            "_model_module_version": "1.5.0",
            "_model_name": "ProgressStyleModel",
            "_view_count": null,
            "_view_module": "@jupyter-widgets/base",
            "_view_module_version": "1.2.0",
            "_view_name": "StyleView",
            "bar_color": null,
            "description_width": ""
          }
        },
        "c9078cc69356485d9ce3d06180841dab": {
          "model_module": "@jupyter-widgets/base",
          "model_name": "LayoutModel",
          "model_module_version": "1.2.0",
          "state": {
            "_model_module": "@jupyter-widgets/base",
            "_model_module_version": "1.2.0",
            "_model_name": "LayoutModel",
            "_view_count": null,
            "_view_module": "@jupyter-widgets/base",
            "_view_module_version": "1.2.0",
            "_view_name": "LayoutView",
            "align_content": null,
            "align_items": null,
            "align_self": null,
            "border": null,
            "bottom": null,
            "display": null,
            "flex": null,
            "flex_flow": null,
            "grid_area": null,
            "grid_auto_columns": null,
            "grid_auto_flow": null,
            "grid_auto_rows": null,
            "grid_column": null,
            "grid_gap": null,
            "grid_row": null,
            "grid_template_areas": null,
            "grid_template_columns": null,
            "grid_template_rows": null,
            "height": null,
            "justify_content": null,
            "justify_items": null,
            "left": null,
            "margin": null,
            "max_height": null,
            "max_width": null,
            "min_height": null,
            "min_width": null,
            "object_fit": null,
            "object_position": null,
            "order": null,
            "overflow": null,
            "overflow_x": null,
            "overflow_y": null,
            "padding": null,
            "right": null,
            "top": null,
            "visibility": null,
            "width": null
          }
        },
        "798bee6621f44d9e8b678c52d4c885a5": {
          "model_module": "@jupyter-widgets/controls",
          "model_name": "DescriptionStyleModel",
          "model_module_version": "1.5.0",
          "state": {
            "_model_module": "@jupyter-widgets/controls",
            "_model_module_version": "1.5.0",
            "_model_name": "DescriptionStyleModel",
            "_view_count": null,
            "_view_module": "@jupyter-widgets/base",
            "_view_module_version": "1.2.0",
            "_view_name": "StyleView",
            "description_width": ""
          }
        },
        "31e717324455476f9742b97992a2e2a5": {
          "model_module": "@jupyter-widgets/controls",
          "model_name": "HBoxModel",
          "model_module_version": "1.5.0",
          "state": {
            "_dom_classes": [],
            "_model_module": "@jupyter-widgets/controls",
            "_model_module_version": "1.5.0",
            "_model_name": "HBoxModel",
            "_view_count": null,
            "_view_module": "@jupyter-widgets/controls",
            "_view_module_version": "1.5.0",
            "_view_name": "HBoxView",
            "box_style": "",
            "children": [
              "IPY_MODEL_ceb1cbff5df84d8ca589c9515522f6e3",
              "IPY_MODEL_68b2ea4bf5ec4ebda25a077b10ef407b",
              "IPY_MODEL_ae6259718f6743228dd8a6d62df1af4e"
            ],
            "layout": "IPY_MODEL_2d4d58595d914cc0abd6ff6a8581d899"
          }
        },
        "ceb1cbff5df84d8ca589c9515522f6e3": {
          "model_module": "@jupyter-widgets/controls",
          "model_name": "HTMLModel",
          "model_module_version": "1.5.0",
          "state": {
            "_dom_classes": [],
            "_model_module": "@jupyter-widgets/controls",
            "_model_module_version": "1.5.0",
            "_model_name": "HTMLModel",
            "_view_count": null,
            "_view_module": "@jupyter-widgets/controls",
            "_view_module_version": "1.5.0",
            "_view_name": "HTMLView",
            "description": "",
            "description_tooltip": null,
            "layout": "IPY_MODEL_56dbe5119ccb4a12ab64fb9ecd2313bb",
            "placeholder": "​",
            "style": "IPY_MODEL_b592a1461c4b43f5b9289e9eb10f1570",
            "value": "config.json: 100%"
          }
        },
        "68b2ea4bf5ec4ebda25a077b10ef407b": {
          "model_module": "@jupyter-widgets/controls",
          "model_name": "FloatProgressModel",
          "model_module_version": "1.5.0",
          "state": {
            "_dom_classes": [],
            "_model_module": "@jupyter-widgets/controls",
            "_model_module_version": "1.5.0",
            "_model_name": "FloatProgressModel",
            "_view_count": null,
            "_view_module": "@jupyter-widgets/controls",
            "_view_module_version": "1.5.0",
            "_view_name": "ProgressView",
            "bar_style": "success",
            "description": "",
            "description_tooltip": null,
            "layout": "IPY_MODEL_dd9d543ff98045098fc0ca6511f9e486",
            "max": 570,
            "min": 0,
            "orientation": "horizontal",
            "style": "IPY_MODEL_d8c2dcd9fed1435bbda02054bc607826",
            "value": 570
          }
        },
        "ae6259718f6743228dd8a6d62df1af4e": {
          "model_module": "@jupyter-widgets/controls",
          "model_name": "HTMLModel",
          "model_module_version": "1.5.0",
          "state": {
            "_dom_classes": [],
            "_model_module": "@jupyter-widgets/controls",
            "_model_module_version": "1.5.0",
            "_model_name": "HTMLModel",
            "_view_count": null,
            "_view_module": "@jupyter-widgets/controls",
            "_view_module_version": "1.5.0",
            "_view_name": "HTMLView",
            "description": "",
            "description_tooltip": null,
            "layout": "IPY_MODEL_24b30a7a6f7b42f386343d9c1ada880b",
            "placeholder": "​",
            "style": "IPY_MODEL_279f1f952b6f4dccbc70c86572b910cd",
            "value": " 570/570 [00:00&lt;00:00, 40.5kB/s]"
          }
        },
        "2d4d58595d914cc0abd6ff6a8581d899": {
          "model_module": "@jupyter-widgets/base",
          "model_name": "LayoutModel",
          "model_module_version": "1.2.0",
          "state": {
            "_model_module": "@jupyter-widgets/base",
            "_model_module_version": "1.2.0",
            "_model_name": "LayoutModel",
            "_view_count": null,
            "_view_module": "@jupyter-widgets/base",
            "_view_module_version": "1.2.0",
            "_view_name": "LayoutView",
            "align_content": null,
            "align_items": null,
            "align_self": null,
            "border": null,
            "bottom": null,
            "display": null,
            "flex": null,
            "flex_flow": null,
            "grid_area": null,
            "grid_auto_columns": null,
            "grid_auto_flow": null,
            "grid_auto_rows": null,
            "grid_column": null,
            "grid_gap": null,
            "grid_row": null,
            "grid_template_areas": null,
            "grid_template_columns": null,
            "grid_template_rows": null,
            "height": null,
            "justify_content": null,
            "justify_items": null,
            "left": null,
            "margin": null,
            "max_height": null,
            "max_width": null,
            "min_height": null,
            "min_width": null,
            "object_fit": null,
            "object_position": null,
            "order": null,
            "overflow": null,
            "overflow_x": null,
            "overflow_y": null,
            "padding": null,
            "right": null,
            "top": null,
            "visibility": null,
            "width": null
          }
        },
        "56dbe5119ccb4a12ab64fb9ecd2313bb": {
          "model_module": "@jupyter-widgets/base",
          "model_name": "LayoutModel",
          "model_module_version": "1.2.0",
          "state": {
            "_model_module": "@jupyter-widgets/base",
            "_model_module_version": "1.2.0",
            "_model_name": "LayoutModel",
            "_view_count": null,
            "_view_module": "@jupyter-widgets/base",
            "_view_module_version": "1.2.0",
            "_view_name": "LayoutView",
            "align_content": null,
            "align_items": null,
            "align_self": null,
            "border": null,
            "bottom": null,
            "display": null,
            "flex": null,
            "flex_flow": null,
            "grid_area": null,
            "grid_auto_columns": null,
            "grid_auto_flow": null,
            "grid_auto_rows": null,
            "grid_column": null,
            "grid_gap": null,
            "grid_row": null,
            "grid_template_areas": null,
            "grid_template_columns": null,
            "grid_template_rows": null,
            "height": null,
            "justify_content": null,
            "justify_items": null,
            "left": null,
            "margin": null,
            "max_height": null,
            "max_width": null,
            "min_height": null,
            "min_width": null,
            "object_fit": null,
            "object_position": null,
            "order": null,
            "overflow": null,
            "overflow_x": null,
            "overflow_y": null,
            "padding": null,
            "right": null,
            "top": null,
            "visibility": null,
            "width": null
          }
        },
        "b592a1461c4b43f5b9289e9eb10f1570": {
          "model_module": "@jupyter-widgets/controls",
          "model_name": "DescriptionStyleModel",
          "model_module_version": "1.5.0",
          "state": {
            "_model_module": "@jupyter-widgets/controls",
            "_model_module_version": "1.5.0",
            "_model_name": "DescriptionStyleModel",
            "_view_count": null,
            "_view_module": "@jupyter-widgets/base",
            "_view_module_version": "1.2.0",
            "_view_name": "StyleView",
            "description_width": ""
          }
        },
        "dd9d543ff98045098fc0ca6511f9e486": {
          "model_module": "@jupyter-widgets/base",
          "model_name": "LayoutModel",
          "model_module_version": "1.2.0",
          "state": {
            "_model_module": "@jupyter-widgets/base",
            "_model_module_version": "1.2.0",
            "_model_name": "LayoutModel",
            "_view_count": null,
            "_view_module": "@jupyter-widgets/base",
            "_view_module_version": "1.2.0",
            "_view_name": "LayoutView",
            "align_content": null,
            "align_items": null,
            "align_self": null,
            "border": null,
            "bottom": null,
            "display": null,
            "flex": null,
            "flex_flow": null,
            "grid_area": null,
            "grid_auto_columns": null,
            "grid_auto_flow": null,
            "grid_auto_rows": null,
            "grid_column": null,
            "grid_gap": null,
            "grid_row": null,
            "grid_template_areas": null,
            "grid_template_columns": null,
            "grid_template_rows": null,
            "height": null,
            "justify_content": null,
            "justify_items": null,
            "left": null,
            "margin": null,
            "max_height": null,
            "max_width": null,
            "min_height": null,
            "min_width": null,
            "object_fit": null,
            "object_position": null,
            "order": null,
            "overflow": null,
            "overflow_x": null,
            "overflow_y": null,
            "padding": null,
            "right": null,
            "top": null,
            "visibility": null,
            "width": null
          }
        },
        "d8c2dcd9fed1435bbda02054bc607826": {
          "model_module": "@jupyter-widgets/controls",
          "model_name": "ProgressStyleModel",
          "model_module_version": "1.5.0",
          "state": {
            "_model_module": "@jupyter-widgets/controls",
            "_model_module_version": "1.5.0",
            "_model_name": "ProgressStyleModel",
            "_view_count": null,
            "_view_module": "@jupyter-widgets/base",
            "_view_module_version": "1.2.0",
            "_view_name": "StyleView",
            "bar_color": null,
            "description_width": ""
          }
        },
        "24b30a7a6f7b42f386343d9c1ada880b": {
          "model_module": "@jupyter-widgets/base",
          "model_name": "LayoutModel",
          "model_module_version": "1.2.0",
          "state": {
            "_model_module": "@jupyter-widgets/base",
            "_model_module_version": "1.2.0",
            "_model_name": "LayoutModel",
            "_view_count": null,
            "_view_module": "@jupyter-widgets/base",
            "_view_module_version": "1.2.0",
            "_view_name": "LayoutView",
            "align_content": null,
            "align_items": null,
            "align_self": null,
            "border": null,
            "bottom": null,
            "display": null,
            "flex": null,
            "flex_flow": null,
            "grid_area": null,
            "grid_auto_columns": null,
            "grid_auto_flow": null,
            "grid_auto_rows": null,
            "grid_column": null,
            "grid_gap": null,
            "grid_row": null,
            "grid_template_areas": null,
            "grid_template_columns": null,
            "grid_template_rows": null,
            "height": null,
            "justify_content": null,
            "justify_items": null,
            "left": null,
            "margin": null,
            "max_height": null,
            "max_width": null,
            "min_height": null,
            "min_width": null,
            "object_fit": null,
            "object_position": null,
            "order": null,
            "overflow": null,
            "overflow_x": null,
            "overflow_y": null,
            "padding": null,
            "right": null,
            "top": null,
            "visibility": null,
            "width": null
          }
        },
        "279f1f952b6f4dccbc70c86572b910cd": {
          "model_module": "@jupyter-widgets/controls",
          "model_name": "DescriptionStyleModel",
          "model_module_version": "1.5.0",
          "state": {
            "_model_module": "@jupyter-widgets/controls",
            "_model_module_version": "1.5.0",
            "_model_name": "DescriptionStyleModel",
            "_view_count": null,
            "_view_module": "@jupyter-widgets/base",
            "_view_module_version": "1.2.0",
            "_view_name": "StyleView",
            "description_width": ""
          }
        },
        "615f1ca6837d48d689c9e6ae9d149d08": {
          "model_module": "@jupyter-widgets/controls",
          "model_name": "HBoxModel",
          "model_module_version": "1.5.0",
          "state": {
            "_dom_classes": [],
            "_model_module": "@jupyter-widgets/controls",
            "_model_module_version": "1.5.0",
            "_model_name": "HBoxModel",
            "_view_count": null,
            "_view_module": "@jupyter-widgets/controls",
            "_view_module_version": "1.5.0",
            "_view_name": "HBoxView",
            "box_style": "",
            "children": [
              "IPY_MODEL_8a994c76d347454797dde42cbc4ff862",
              "IPY_MODEL_d2d6d450727f40e7844b41fab39e1275",
              "IPY_MODEL_79ad456101604deca5cac378fb419b2f"
            ],
            "layout": "IPY_MODEL_f5e89595228e4675a16088daceede9bb"
          }
        },
        "8a994c76d347454797dde42cbc4ff862": {
          "model_module": "@jupyter-widgets/controls",
          "model_name": "HTMLModel",
          "model_module_version": "1.5.0",
          "state": {
            "_dom_classes": [],
            "_model_module": "@jupyter-widgets/controls",
            "_model_module_version": "1.5.0",
            "_model_name": "HTMLModel",
            "_view_count": null,
            "_view_module": "@jupyter-widgets/controls",
            "_view_module_version": "1.5.0",
            "_view_name": "HTMLView",
            "description": "",
            "description_tooltip": null,
            "layout": "IPY_MODEL_9f9eb2d5084a4eeeb9a6621161d805ab",
            "placeholder": "​",
            "style": "IPY_MODEL_0baa400b6d344c2ab5bcbe0f1a4c2992",
            "value": "model.safetensors: 100%"
          }
        },
        "d2d6d450727f40e7844b41fab39e1275": {
          "model_module": "@jupyter-widgets/controls",
          "model_name": "FloatProgressModel",
          "model_module_version": "1.5.0",
          "state": {
            "_dom_classes": [],
            "_model_module": "@jupyter-widgets/controls",
            "_model_module_version": "1.5.0",
            "_model_name": "FloatProgressModel",
            "_view_count": null,
            "_view_module": "@jupyter-widgets/controls",
            "_view_module_version": "1.5.0",
            "_view_name": "ProgressView",
            "bar_style": "success",
            "description": "",
            "description_tooltip": null,
            "layout": "IPY_MODEL_798be5fedd814f4a933f0bd07f5dda6a",
            "max": 440449768,
            "min": 0,
            "orientation": "horizontal",
            "style": "IPY_MODEL_c349a65e1062491299941c917d809da9",
            "value": 440449768
          }
        },
        "79ad456101604deca5cac378fb419b2f": {
          "model_module": "@jupyter-widgets/controls",
          "model_name": "HTMLModel",
          "model_module_version": "1.5.0",
          "state": {
            "_dom_classes": [],
            "_model_module": "@jupyter-widgets/controls",
            "_model_module_version": "1.5.0",
            "_model_name": "HTMLModel",
            "_view_count": null,
            "_view_module": "@jupyter-widgets/controls",
            "_view_module_version": "1.5.0",
            "_view_name": "HTMLView",
            "description": "",
            "description_tooltip": null,
            "layout": "IPY_MODEL_30b79583feb2442f9d5e37a5fd56dd22",
            "placeholder": "​",
            "style": "IPY_MODEL_d0f1fe6dee8648299b12b33105c4f0ef",
            "value": " 440M/440M [00:01&lt;00:00, 245MB/s]"
          }
        },
        "f5e89595228e4675a16088daceede9bb": {
          "model_module": "@jupyter-widgets/base",
          "model_name": "LayoutModel",
          "model_module_version": "1.2.0",
          "state": {
            "_model_module": "@jupyter-widgets/base",
            "_model_module_version": "1.2.0",
            "_model_name": "LayoutModel",
            "_view_count": null,
            "_view_module": "@jupyter-widgets/base",
            "_view_module_version": "1.2.0",
            "_view_name": "LayoutView",
            "align_content": null,
            "align_items": null,
            "align_self": null,
            "border": null,
            "bottom": null,
            "display": null,
            "flex": null,
            "flex_flow": null,
            "grid_area": null,
            "grid_auto_columns": null,
            "grid_auto_flow": null,
            "grid_auto_rows": null,
            "grid_column": null,
            "grid_gap": null,
            "grid_row": null,
            "grid_template_areas": null,
            "grid_template_columns": null,
            "grid_template_rows": null,
            "height": null,
            "justify_content": null,
            "justify_items": null,
            "left": null,
            "margin": null,
            "max_height": null,
            "max_width": null,
            "min_height": null,
            "min_width": null,
            "object_fit": null,
            "object_position": null,
            "order": null,
            "overflow": null,
            "overflow_x": null,
            "overflow_y": null,
            "padding": null,
            "right": null,
            "top": null,
            "visibility": null,
            "width": null
          }
        },
        "9f9eb2d5084a4eeeb9a6621161d805ab": {
          "model_module": "@jupyter-widgets/base",
          "model_name": "LayoutModel",
          "model_module_version": "1.2.0",
          "state": {
            "_model_module": "@jupyter-widgets/base",
            "_model_module_version": "1.2.0",
            "_model_name": "LayoutModel",
            "_view_count": null,
            "_view_module": "@jupyter-widgets/base",
            "_view_module_version": "1.2.0",
            "_view_name": "LayoutView",
            "align_content": null,
            "align_items": null,
            "align_self": null,
            "border": null,
            "bottom": null,
            "display": null,
            "flex": null,
            "flex_flow": null,
            "grid_area": null,
            "grid_auto_columns": null,
            "grid_auto_flow": null,
            "grid_auto_rows": null,
            "grid_column": null,
            "grid_gap": null,
            "grid_row": null,
            "grid_template_areas": null,
            "grid_template_columns": null,
            "grid_template_rows": null,
            "height": null,
            "justify_content": null,
            "justify_items": null,
            "left": null,
            "margin": null,
            "max_height": null,
            "max_width": null,
            "min_height": null,
            "min_width": null,
            "object_fit": null,
            "object_position": null,
            "order": null,
            "overflow": null,
            "overflow_x": null,
            "overflow_y": null,
            "padding": null,
            "right": null,
            "top": null,
            "visibility": null,
            "width": null
          }
        },
        "0baa400b6d344c2ab5bcbe0f1a4c2992": {
          "model_module": "@jupyter-widgets/controls",
          "model_name": "DescriptionStyleModel",
          "model_module_version": "1.5.0",
          "state": {
            "_model_module": "@jupyter-widgets/controls",
            "_model_module_version": "1.5.0",
            "_model_name": "DescriptionStyleModel",
            "_view_count": null,
            "_view_module": "@jupyter-widgets/base",
            "_view_module_version": "1.2.0",
            "_view_name": "StyleView",
            "description_width": ""
          }
        },
        "798be5fedd814f4a933f0bd07f5dda6a": {
          "model_module": "@jupyter-widgets/base",
          "model_name": "LayoutModel",
          "model_module_version": "1.2.0",
          "state": {
            "_model_module": "@jupyter-widgets/base",
            "_model_module_version": "1.2.0",
            "_model_name": "LayoutModel",
            "_view_count": null,
            "_view_module": "@jupyter-widgets/base",
            "_view_module_version": "1.2.0",
            "_view_name": "LayoutView",
            "align_content": null,
            "align_items": null,
            "align_self": null,
            "border": null,
            "bottom": null,
            "display": null,
            "flex": null,
            "flex_flow": null,
            "grid_area": null,
            "grid_auto_columns": null,
            "grid_auto_flow": null,
            "grid_auto_rows": null,
            "grid_column": null,
            "grid_gap": null,
            "grid_row": null,
            "grid_template_areas": null,
            "grid_template_columns": null,
            "grid_template_rows": null,
            "height": null,
            "justify_content": null,
            "justify_items": null,
            "left": null,
            "margin": null,
            "max_height": null,
            "max_width": null,
            "min_height": null,
            "min_width": null,
            "object_fit": null,
            "object_position": null,
            "order": null,
            "overflow": null,
            "overflow_x": null,
            "overflow_y": null,
            "padding": null,
            "right": null,
            "top": null,
            "visibility": null,
            "width": null
          }
        },
        "c349a65e1062491299941c917d809da9": {
          "model_module": "@jupyter-widgets/controls",
          "model_name": "ProgressStyleModel",
          "model_module_version": "1.5.0",
          "state": {
            "_model_module": "@jupyter-widgets/controls",
            "_model_module_version": "1.5.0",
            "_model_name": "ProgressStyleModel",
            "_view_count": null,
            "_view_module": "@jupyter-widgets/base",
            "_view_module_version": "1.2.0",
            "_view_name": "StyleView",
            "bar_color": null,
            "description_width": ""
          }
        },
        "30b79583feb2442f9d5e37a5fd56dd22": {
          "model_module": "@jupyter-widgets/base",
          "model_name": "LayoutModel",
          "model_module_version": "1.2.0",
          "state": {
            "_model_module": "@jupyter-widgets/base",
            "_model_module_version": "1.2.0",
            "_model_name": "LayoutModel",
            "_view_count": null,
            "_view_module": "@jupyter-widgets/base",
            "_view_module_version": "1.2.0",
            "_view_name": "LayoutView",
            "align_content": null,
            "align_items": null,
            "align_self": null,
            "border": null,
            "bottom": null,
            "display": null,
            "flex": null,
            "flex_flow": null,
            "grid_area": null,
            "grid_auto_columns": null,
            "grid_auto_flow": null,
            "grid_auto_rows": null,
            "grid_column": null,
            "grid_gap": null,
            "grid_row": null,
            "grid_template_areas": null,
            "grid_template_columns": null,
            "grid_template_rows": null,
            "height": null,
            "justify_content": null,
            "justify_items": null,
            "left": null,
            "margin": null,
            "max_height": null,
            "max_width": null,
            "min_height": null,
            "min_width": null,
            "object_fit": null,
            "object_position": null,
            "order": null,
            "overflow": null,
            "overflow_x": null,
            "overflow_y": null,
            "padding": null,
            "right": null,
            "top": null,
            "visibility": null,
            "width": null
          }
        },
        "d0f1fe6dee8648299b12b33105c4f0ef": {
          "model_module": "@jupyter-widgets/controls",
          "model_name": "DescriptionStyleModel",
          "model_module_version": "1.5.0",
          "state": {
            "_model_module": "@jupyter-widgets/controls",
            "_model_module_version": "1.5.0",
            "_model_name": "DescriptionStyleModel",
            "_view_count": null,
            "_view_module": "@jupyter-widgets/base",
            "_view_module_version": "1.2.0",
            "_view_name": "StyleView",
            "description_width": ""
          }
        },
        "fba1e3589c5545b29ac60ee591947725": {
          "model_module": "@jupyter-widgets/controls",
          "model_name": "HBoxModel",
          "model_module_version": "1.5.0",
          "state": {
            "_dom_classes": [],
            "_model_module": "@jupyter-widgets/controls",
            "_model_module_version": "1.5.0",
            "_model_name": "HBoxModel",
            "_view_count": null,
            "_view_module": "@jupyter-widgets/controls",
            "_view_module_version": "1.5.0",
            "_view_name": "HBoxView",
            "box_style": "",
            "children": [
              "IPY_MODEL_fc91a902d44e450cbecfd89223c34a17",
              "IPY_MODEL_0d56ad1ca0ff44aab50621814ad2435c",
              "IPY_MODEL_c1073b45d7114fd59ad1c833a292c5db"
            ],
            "layout": "IPY_MODEL_bd7fc87fd31d454c859e4fa22d8226d1"
          }
        },
        "fc91a902d44e450cbecfd89223c34a17": {
          "model_module": "@jupyter-widgets/controls",
          "model_name": "HTMLModel",
          "model_module_version": "1.5.0",
          "state": {
            "_dom_classes": [],
            "_model_module": "@jupyter-widgets/controls",
            "_model_module_version": "1.5.0",
            "_model_name": "HTMLModel",
            "_view_count": null,
            "_view_module": "@jupyter-widgets/controls",
            "_view_module_version": "1.5.0",
            "_view_name": "HTMLView",
            "description": "",
            "description_tooltip": null,
            "layout": "IPY_MODEL_1f98c3aeddf44d3c8343419dccca67ca",
            "placeholder": "​",
            "style": "IPY_MODEL_185b14f9d8274c4a9a9d194955b018ad",
            "value": "tokenizer_config.json: 100%"
          }
        },
        "0d56ad1ca0ff44aab50621814ad2435c": {
          "model_module": "@jupyter-widgets/controls",
          "model_name": "FloatProgressModel",
          "model_module_version": "1.5.0",
          "state": {
            "_dom_classes": [],
            "_model_module": "@jupyter-widgets/controls",
            "_model_module_version": "1.5.0",
            "_model_name": "FloatProgressModel",
            "_view_count": null,
            "_view_module": "@jupyter-widgets/controls",
            "_view_module_version": "1.5.0",
            "_view_name": "ProgressView",
            "bar_style": "success",
            "description": "",
            "description_tooltip": null,
            "layout": "IPY_MODEL_6726b61eab384b37a10737383ad5c906",
            "max": 48,
            "min": 0,
            "orientation": "horizontal",
            "style": "IPY_MODEL_dbf390c2b402403fbdcf2e316e48dee3",
            "value": 48
          }
        },
        "c1073b45d7114fd59ad1c833a292c5db": {
          "model_module": "@jupyter-widgets/controls",
          "model_name": "HTMLModel",
          "model_module_version": "1.5.0",
          "state": {
            "_dom_classes": [],
            "_model_module": "@jupyter-widgets/controls",
            "_model_module_version": "1.5.0",
            "_model_name": "HTMLModel",
            "_view_count": null,
            "_view_module": "@jupyter-widgets/controls",
            "_view_module_version": "1.5.0",
            "_view_name": "HTMLView",
            "description": "",
            "description_tooltip": null,
            "layout": "IPY_MODEL_34c932c58a1743cfb11dea84556dd3cf",
            "placeholder": "​",
            "style": "IPY_MODEL_935bc0e4cc4b44d0a65de8bbe85934fb",
            "value": " 48.0/48.0 [00:00&lt;00:00, 4.04kB/s]"
          }
        },
        "bd7fc87fd31d454c859e4fa22d8226d1": {
          "model_module": "@jupyter-widgets/base",
          "model_name": "LayoutModel",
          "model_module_version": "1.2.0",
          "state": {
            "_model_module": "@jupyter-widgets/base",
            "_model_module_version": "1.2.0",
            "_model_name": "LayoutModel",
            "_view_count": null,
            "_view_module": "@jupyter-widgets/base",
            "_view_module_version": "1.2.0",
            "_view_name": "LayoutView",
            "align_content": null,
            "align_items": null,
            "align_self": null,
            "border": null,
            "bottom": null,
            "display": null,
            "flex": null,
            "flex_flow": null,
            "grid_area": null,
            "grid_auto_columns": null,
            "grid_auto_flow": null,
            "grid_auto_rows": null,
            "grid_column": null,
            "grid_gap": null,
            "grid_row": null,
            "grid_template_areas": null,
            "grid_template_columns": null,
            "grid_template_rows": null,
            "height": null,
            "justify_content": null,
            "justify_items": null,
            "left": null,
            "margin": null,
            "max_height": null,
            "max_width": null,
            "min_height": null,
            "min_width": null,
            "object_fit": null,
            "object_position": null,
            "order": null,
            "overflow": null,
            "overflow_x": null,
            "overflow_y": null,
            "padding": null,
            "right": null,
            "top": null,
            "visibility": null,
            "width": null
          }
        },
        "1f98c3aeddf44d3c8343419dccca67ca": {
          "model_module": "@jupyter-widgets/base",
          "model_name": "LayoutModel",
          "model_module_version": "1.2.0",
          "state": {
            "_model_module": "@jupyter-widgets/base",
            "_model_module_version": "1.2.0",
            "_model_name": "LayoutModel",
            "_view_count": null,
            "_view_module": "@jupyter-widgets/base",
            "_view_module_version": "1.2.0",
            "_view_name": "LayoutView",
            "align_content": null,
            "align_items": null,
            "align_self": null,
            "border": null,
            "bottom": null,
            "display": null,
            "flex": null,
            "flex_flow": null,
            "grid_area": null,
            "grid_auto_columns": null,
            "grid_auto_flow": null,
            "grid_auto_rows": null,
            "grid_column": null,
            "grid_gap": null,
            "grid_row": null,
            "grid_template_areas": null,
            "grid_template_columns": null,
            "grid_template_rows": null,
            "height": null,
            "justify_content": null,
            "justify_items": null,
            "left": null,
            "margin": null,
            "max_height": null,
            "max_width": null,
            "min_height": null,
            "min_width": null,
            "object_fit": null,
            "object_position": null,
            "order": null,
            "overflow": null,
            "overflow_x": null,
            "overflow_y": null,
            "padding": null,
            "right": null,
            "top": null,
            "visibility": null,
            "width": null
          }
        },
        "185b14f9d8274c4a9a9d194955b018ad": {
          "model_module": "@jupyter-widgets/controls",
          "model_name": "DescriptionStyleModel",
          "model_module_version": "1.5.0",
          "state": {
            "_model_module": "@jupyter-widgets/controls",
            "_model_module_version": "1.5.0",
            "_model_name": "DescriptionStyleModel",
            "_view_count": null,
            "_view_module": "@jupyter-widgets/base",
            "_view_module_version": "1.2.0",
            "_view_name": "StyleView",
            "description_width": ""
          }
        },
        "6726b61eab384b37a10737383ad5c906": {
          "model_module": "@jupyter-widgets/base",
          "model_name": "LayoutModel",
          "model_module_version": "1.2.0",
          "state": {
            "_model_module": "@jupyter-widgets/base",
            "_model_module_version": "1.2.0",
            "_model_name": "LayoutModel",
            "_view_count": null,
            "_view_module": "@jupyter-widgets/base",
            "_view_module_version": "1.2.0",
            "_view_name": "LayoutView",
            "align_content": null,
            "align_items": null,
            "align_self": null,
            "border": null,
            "bottom": null,
            "display": null,
            "flex": null,
            "flex_flow": null,
            "grid_area": null,
            "grid_auto_columns": null,
            "grid_auto_flow": null,
            "grid_auto_rows": null,
            "grid_column": null,
            "grid_gap": null,
            "grid_row": null,
            "grid_template_areas": null,
            "grid_template_columns": null,
            "grid_template_rows": null,
            "height": null,
            "justify_content": null,
            "justify_items": null,
            "left": null,
            "margin": null,
            "max_height": null,
            "max_width": null,
            "min_height": null,
            "min_width": null,
            "object_fit": null,
            "object_position": null,
            "order": null,
            "overflow": null,
            "overflow_x": null,
            "overflow_y": null,
            "padding": null,
            "right": null,
            "top": null,
            "visibility": null,
            "width": null
          }
        },
        "dbf390c2b402403fbdcf2e316e48dee3": {
          "model_module": "@jupyter-widgets/controls",
          "model_name": "ProgressStyleModel",
          "model_module_version": "1.5.0",
          "state": {
            "_model_module": "@jupyter-widgets/controls",
            "_model_module_version": "1.5.0",
            "_model_name": "ProgressStyleModel",
            "_view_count": null,
            "_view_module": "@jupyter-widgets/base",
            "_view_module_version": "1.2.0",
            "_view_name": "StyleView",
            "bar_color": null,
            "description_width": ""
          }
        },
        "34c932c58a1743cfb11dea84556dd3cf": {
          "model_module": "@jupyter-widgets/base",
          "model_name": "LayoutModel",
          "model_module_version": "1.2.0",
          "state": {
            "_model_module": "@jupyter-widgets/base",
            "_model_module_version": "1.2.0",
            "_model_name": "LayoutModel",
            "_view_count": null,
            "_view_module": "@jupyter-widgets/base",
            "_view_module_version": "1.2.0",
            "_view_name": "LayoutView",
            "align_content": null,
            "align_items": null,
            "align_self": null,
            "border": null,
            "bottom": null,
            "display": null,
            "flex": null,
            "flex_flow": null,
            "grid_area": null,
            "grid_auto_columns": null,
            "grid_auto_flow": null,
            "grid_auto_rows": null,
            "grid_column": null,
            "grid_gap": null,
            "grid_row": null,
            "grid_template_areas": null,
            "grid_template_columns": null,
            "grid_template_rows": null,
            "height": null,
            "justify_content": null,
            "justify_items": null,
            "left": null,
            "margin": null,
            "max_height": null,
            "max_width": null,
            "min_height": null,
            "min_width": null,
            "object_fit": null,
            "object_position": null,
            "order": null,
            "overflow": null,
            "overflow_x": null,
            "overflow_y": null,
            "padding": null,
            "right": null,
            "top": null,
            "visibility": null,
            "width": null
          }
        },
        "935bc0e4cc4b44d0a65de8bbe85934fb": {
          "model_module": "@jupyter-widgets/controls",
          "model_name": "DescriptionStyleModel",
          "model_module_version": "1.5.0",
          "state": {
            "_model_module": "@jupyter-widgets/controls",
            "_model_module_version": "1.5.0",
            "_model_name": "DescriptionStyleModel",
            "_view_count": null,
            "_view_module": "@jupyter-widgets/base",
            "_view_module_version": "1.2.0",
            "_view_name": "StyleView",
            "description_width": ""
          }
        },
        "be8dbae499c546b695e76d742c2b0744": {
          "model_module": "@jupyter-widgets/controls",
          "model_name": "HBoxModel",
          "model_module_version": "1.5.0",
          "state": {
            "_dom_classes": [],
            "_model_module": "@jupyter-widgets/controls",
            "_model_module_version": "1.5.0",
            "_model_name": "HBoxModel",
            "_view_count": null,
            "_view_module": "@jupyter-widgets/controls",
            "_view_module_version": "1.5.0",
            "_view_name": "HBoxView",
            "box_style": "",
            "children": [
              "IPY_MODEL_07de55b57783498386f9b794a91782ec",
              "IPY_MODEL_227ef89fe3404f0681a0e0c69046c68c",
              "IPY_MODEL_2f9e5e98e2d443c18bc2c3ef88e31f41"
            ],
            "layout": "IPY_MODEL_6b9e989ee8ae48d2a04e42b5d47f7ec3"
          }
        },
        "07de55b57783498386f9b794a91782ec": {
          "model_module": "@jupyter-widgets/controls",
          "model_name": "HTMLModel",
          "model_module_version": "1.5.0",
          "state": {
            "_dom_classes": [],
            "_model_module": "@jupyter-widgets/controls",
            "_model_module_version": "1.5.0",
            "_model_name": "HTMLModel",
            "_view_count": null,
            "_view_module": "@jupyter-widgets/controls",
            "_view_module_version": "1.5.0",
            "_view_name": "HTMLView",
            "description": "",
            "description_tooltip": null,
            "layout": "IPY_MODEL_4a3e19303a3c4eb2b15d01f11e335bd2",
            "placeholder": "​",
            "style": "IPY_MODEL_15b7963756ad4181ba15ed5d06830e39",
            "value": "vocab.txt: 100%"
          }
        },
        "227ef89fe3404f0681a0e0c69046c68c": {
          "model_module": "@jupyter-widgets/controls",
          "model_name": "FloatProgressModel",
          "model_module_version": "1.5.0",
          "state": {
            "_dom_classes": [],
            "_model_module": "@jupyter-widgets/controls",
            "_model_module_version": "1.5.0",
            "_model_name": "FloatProgressModel",
            "_view_count": null,
            "_view_module": "@jupyter-widgets/controls",
            "_view_module_version": "1.5.0",
            "_view_name": "ProgressView",
            "bar_style": "success",
            "description": "",
            "description_tooltip": null,
            "layout": "IPY_MODEL_04d31891f08441549f4042278387f156",
            "max": 231508,
            "min": 0,
            "orientation": "horizontal",
            "style": "IPY_MODEL_df408278e6a24072a7f1fbad5c99a1a2",
            "value": 231508
          }
        },
        "2f9e5e98e2d443c18bc2c3ef88e31f41": {
          "model_module": "@jupyter-widgets/controls",
          "model_name": "HTMLModel",
          "model_module_version": "1.5.0",
          "state": {
            "_dom_classes": [],
            "_model_module": "@jupyter-widgets/controls",
            "_model_module_version": "1.5.0",
            "_model_name": "HTMLModel",
            "_view_count": null,
            "_view_module": "@jupyter-widgets/controls",
            "_view_module_version": "1.5.0",
            "_view_name": "HTMLView",
            "description": "",
            "description_tooltip": null,
            "layout": "IPY_MODEL_3cdff7b6c48a46138063d9a9a3c794be",
            "placeholder": "​",
            "style": "IPY_MODEL_42d8ca46c6d34352aef4df50d48846b9",
            "value": " 232k/232k [00:00&lt;00:00, 1.41MB/s]"
          }
        },
        "6b9e989ee8ae48d2a04e42b5d47f7ec3": {
          "model_module": "@jupyter-widgets/base",
          "model_name": "LayoutModel",
          "model_module_version": "1.2.0",
          "state": {
            "_model_module": "@jupyter-widgets/base",
            "_model_module_version": "1.2.0",
            "_model_name": "LayoutModel",
            "_view_count": null,
            "_view_module": "@jupyter-widgets/base",
            "_view_module_version": "1.2.0",
            "_view_name": "LayoutView",
            "align_content": null,
            "align_items": null,
            "align_self": null,
            "border": null,
            "bottom": null,
            "display": null,
            "flex": null,
            "flex_flow": null,
            "grid_area": null,
            "grid_auto_columns": null,
            "grid_auto_flow": null,
            "grid_auto_rows": null,
            "grid_column": null,
            "grid_gap": null,
            "grid_row": null,
            "grid_template_areas": null,
            "grid_template_columns": null,
            "grid_template_rows": null,
            "height": null,
            "justify_content": null,
            "justify_items": null,
            "left": null,
            "margin": null,
            "max_height": null,
            "max_width": null,
            "min_height": null,
            "min_width": null,
            "object_fit": null,
            "object_position": null,
            "order": null,
            "overflow": null,
            "overflow_x": null,
            "overflow_y": null,
            "padding": null,
            "right": null,
            "top": null,
            "visibility": null,
            "width": null
          }
        },
        "4a3e19303a3c4eb2b15d01f11e335bd2": {
          "model_module": "@jupyter-widgets/base",
          "model_name": "LayoutModel",
          "model_module_version": "1.2.0",
          "state": {
            "_model_module": "@jupyter-widgets/base",
            "_model_module_version": "1.2.0",
            "_model_name": "LayoutModel",
            "_view_count": null,
            "_view_module": "@jupyter-widgets/base",
            "_view_module_version": "1.2.0",
            "_view_name": "LayoutView",
            "align_content": null,
            "align_items": null,
            "align_self": null,
            "border": null,
            "bottom": null,
            "display": null,
            "flex": null,
            "flex_flow": null,
            "grid_area": null,
            "grid_auto_columns": null,
            "grid_auto_flow": null,
            "grid_auto_rows": null,
            "grid_column": null,
            "grid_gap": null,
            "grid_row": null,
            "grid_template_areas": null,
            "grid_template_columns": null,
            "grid_template_rows": null,
            "height": null,
            "justify_content": null,
            "justify_items": null,
            "left": null,
            "margin": null,
            "max_height": null,
            "max_width": null,
            "min_height": null,
            "min_width": null,
            "object_fit": null,
            "object_position": null,
            "order": null,
            "overflow": null,
            "overflow_x": null,
            "overflow_y": null,
            "padding": null,
            "right": null,
            "top": null,
            "visibility": null,
            "width": null
          }
        },
        "15b7963756ad4181ba15ed5d06830e39": {
          "model_module": "@jupyter-widgets/controls",
          "model_name": "DescriptionStyleModel",
          "model_module_version": "1.5.0",
          "state": {
            "_model_module": "@jupyter-widgets/controls",
            "_model_module_version": "1.5.0",
            "_model_name": "DescriptionStyleModel",
            "_view_count": null,
            "_view_module": "@jupyter-widgets/base",
            "_view_module_version": "1.2.0",
            "_view_name": "StyleView",
            "description_width": ""
          }
        },
        "04d31891f08441549f4042278387f156": {
          "model_module": "@jupyter-widgets/base",
          "model_name": "LayoutModel",
          "model_module_version": "1.2.0",
          "state": {
            "_model_module": "@jupyter-widgets/base",
            "_model_module_version": "1.2.0",
            "_model_name": "LayoutModel",
            "_view_count": null,
            "_view_module": "@jupyter-widgets/base",
            "_view_module_version": "1.2.0",
            "_view_name": "LayoutView",
            "align_content": null,
            "align_items": null,
            "align_self": null,
            "border": null,
            "bottom": null,
            "display": null,
            "flex": null,
            "flex_flow": null,
            "grid_area": null,
            "grid_auto_columns": null,
            "grid_auto_flow": null,
            "grid_auto_rows": null,
            "grid_column": null,
            "grid_gap": null,
            "grid_row": null,
            "grid_template_areas": null,
            "grid_template_columns": null,
            "grid_template_rows": null,
            "height": null,
            "justify_content": null,
            "justify_items": null,
            "left": null,
            "margin": null,
            "max_height": null,
            "max_width": null,
            "min_height": null,
            "min_width": null,
            "object_fit": null,
            "object_position": null,
            "order": null,
            "overflow": null,
            "overflow_x": null,
            "overflow_y": null,
            "padding": null,
            "right": null,
            "top": null,
            "visibility": null,
            "width": null
          }
        },
        "df408278e6a24072a7f1fbad5c99a1a2": {
          "model_module": "@jupyter-widgets/controls",
          "model_name": "ProgressStyleModel",
          "model_module_version": "1.5.0",
          "state": {
            "_model_module": "@jupyter-widgets/controls",
            "_model_module_version": "1.5.0",
            "_model_name": "ProgressStyleModel",
            "_view_count": null,
            "_view_module": "@jupyter-widgets/base",
            "_view_module_version": "1.2.0",
            "_view_name": "StyleView",
            "bar_color": null,
            "description_width": ""
          }
        },
        "3cdff7b6c48a46138063d9a9a3c794be": {
          "model_module": "@jupyter-widgets/base",
          "model_name": "LayoutModel",
          "model_module_version": "1.2.0",
          "state": {
            "_model_module": "@jupyter-widgets/base",
            "_model_module_version": "1.2.0",
            "_model_name": "LayoutModel",
            "_view_count": null,
            "_view_module": "@jupyter-widgets/base",
            "_view_module_version": "1.2.0",
            "_view_name": "LayoutView",
            "align_content": null,
            "align_items": null,
            "align_self": null,
            "border": null,
            "bottom": null,
            "display": null,
            "flex": null,
            "flex_flow": null,
            "grid_area": null,
            "grid_auto_columns": null,
            "grid_auto_flow": null,
            "grid_auto_rows": null,
            "grid_column": null,
            "grid_gap": null,
            "grid_row": null,
            "grid_template_areas": null,
            "grid_template_columns": null,
            "grid_template_rows": null,
            "height": null,
            "justify_content": null,
            "justify_items": null,
            "left": null,
            "margin": null,
            "max_height": null,
            "max_width": null,
            "min_height": null,
            "min_width": null,
            "object_fit": null,
            "object_position": null,
            "order": null,
            "overflow": null,
            "overflow_x": null,
            "overflow_y": null,
            "padding": null,
            "right": null,
            "top": null,
            "visibility": null,
            "width": null
          }
        },
        "42d8ca46c6d34352aef4df50d48846b9": {
          "model_module": "@jupyter-widgets/controls",
          "model_name": "DescriptionStyleModel",
          "model_module_version": "1.5.0",
          "state": {
            "_model_module": "@jupyter-widgets/controls",
            "_model_module_version": "1.5.0",
            "_model_name": "DescriptionStyleModel",
            "_view_count": null,
            "_view_module": "@jupyter-widgets/base",
            "_view_module_version": "1.2.0",
            "_view_name": "StyleView",
            "description_width": ""
          }
        },
        "77ebc54cbbd146f99b998163f0f60279": {
          "model_module": "@jupyter-widgets/controls",
          "model_name": "HBoxModel",
          "model_module_version": "1.5.0",
          "state": {
            "_dom_classes": [],
            "_model_module": "@jupyter-widgets/controls",
            "_model_module_version": "1.5.0",
            "_model_name": "HBoxModel",
            "_view_count": null,
            "_view_module": "@jupyter-widgets/controls",
            "_view_module_version": "1.5.0",
            "_view_name": "HBoxView",
            "box_style": "",
            "children": [
              "IPY_MODEL_0265d507cf4741bfa34fc1d72a91cbea",
              "IPY_MODEL_0d2aa31d277f4cbda2ebec8343d336be",
              "IPY_MODEL_d7265178552540ccb585b35b678b2a89"
            ],
            "layout": "IPY_MODEL_52bcc4730a90499da5f02999f9479c4c"
          }
        },
        "0265d507cf4741bfa34fc1d72a91cbea": {
          "model_module": "@jupyter-widgets/controls",
          "model_name": "HTMLModel",
          "model_module_version": "1.5.0",
          "state": {
            "_dom_classes": [],
            "_model_module": "@jupyter-widgets/controls",
            "_model_module_version": "1.5.0",
            "_model_name": "HTMLModel",
            "_view_count": null,
            "_view_module": "@jupyter-widgets/controls",
            "_view_module_version": "1.5.0",
            "_view_name": "HTMLView",
            "description": "",
            "description_tooltip": null,
            "layout": "IPY_MODEL_9f0003acbe674533948d4dc391214213",
            "placeholder": "​",
            "style": "IPY_MODEL_a19f4a48ceaa4bc2aa9912377b9c3d85",
            "value": "tokenizer.json: 100%"
          }
        },
        "0d2aa31d277f4cbda2ebec8343d336be": {
          "model_module": "@jupyter-widgets/controls",
          "model_name": "FloatProgressModel",
          "model_module_version": "1.5.0",
          "state": {
            "_dom_classes": [],
            "_model_module": "@jupyter-widgets/controls",
            "_model_module_version": "1.5.0",
            "_model_name": "FloatProgressModel",
            "_view_count": null,
            "_view_module": "@jupyter-widgets/controls",
            "_view_module_version": "1.5.0",
            "_view_name": "ProgressView",
            "bar_style": "success",
            "description": "",
            "description_tooltip": null,
            "layout": "IPY_MODEL_24dceb6d22974a72abcdc25f42638212",
            "max": 466062,
            "min": 0,
            "orientation": "horizontal",
            "style": "IPY_MODEL_8d1d88bbba18490aa7f5dcfdaf82233a",
            "value": 466062
          }
        },
        "d7265178552540ccb585b35b678b2a89": {
          "model_module": "@jupyter-widgets/controls",
          "model_name": "HTMLModel",
          "model_module_version": "1.5.0",
          "state": {
            "_dom_classes": [],
            "_model_module": "@jupyter-widgets/controls",
            "_model_module_version": "1.5.0",
            "_model_name": "HTMLModel",
            "_view_count": null,
            "_view_module": "@jupyter-widgets/controls",
            "_view_module_version": "1.5.0",
            "_view_name": "HTMLView",
            "description": "",
            "description_tooltip": null,
            "layout": "IPY_MODEL_d67eda366e6d4e1baf2839d849af1f62",
            "placeholder": "​",
            "style": "IPY_MODEL_57995e173b7e418098fd5a14d7cf71e9",
            "value": " 466k/466k [00:00&lt;00:00, 1.90MB/s]"
          }
        },
        "52bcc4730a90499da5f02999f9479c4c": {
          "model_module": "@jupyter-widgets/base",
          "model_name": "LayoutModel",
          "model_module_version": "1.2.0",
          "state": {
            "_model_module": "@jupyter-widgets/base",
            "_model_module_version": "1.2.0",
            "_model_name": "LayoutModel",
            "_view_count": null,
            "_view_module": "@jupyter-widgets/base",
            "_view_module_version": "1.2.0",
            "_view_name": "LayoutView",
            "align_content": null,
            "align_items": null,
            "align_self": null,
            "border": null,
            "bottom": null,
            "display": null,
            "flex": null,
            "flex_flow": null,
            "grid_area": null,
            "grid_auto_columns": null,
            "grid_auto_flow": null,
            "grid_auto_rows": null,
            "grid_column": null,
            "grid_gap": null,
            "grid_row": null,
            "grid_template_areas": null,
            "grid_template_columns": null,
            "grid_template_rows": null,
            "height": null,
            "justify_content": null,
            "justify_items": null,
            "left": null,
            "margin": null,
            "max_height": null,
            "max_width": null,
            "min_height": null,
            "min_width": null,
            "object_fit": null,
            "object_position": null,
            "order": null,
            "overflow": null,
            "overflow_x": null,
            "overflow_y": null,
            "padding": null,
            "right": null,
            "top": null,
            "visibility": null,
            "width": null
          }
        },
        "9f0003acbe674533948d4dc391214213": {
          "model_module": "@jupyter-widgets/base",
          "model_name": "LayoutModel",
          "model_module_version": "1.2.0",
          "state": {
            "_model_module": "@jupyter-widgets/base",
            "_model_module_version": "1.2.0",
            "_model_name": "LayoutModel",
            "_view_count": null,
            "_view_module": "@jupyter-widgets/base",
            "_view_module_version": "1.2.0",
            "_view_name": "LayoutView",
            "align_content": null,
            "align_items": null,
            "align_self": null,
            "border": null,
            "bottom": null,
            "display": null,
            "flex": null,
            "flex_flow": null,
            "grid_area": null,
            "grid_auto_columns": null,
            "grid_auto_flow": null,
            "grid_auto_rows": null,
            "grid_column": null,
            "grid_gap": null,
            "grid_row": null,
            "grid_template_areas": null,
            "grid_template_columns": null,
            "grid_template_rows": null,
            "height": null,
            "justify_content": null,
            "justify_items": null,
            "left": null,
            "margin": null,
            "max_height": null,
            "max_width": null,
            "min_height": null,
            "min_width": null,
            "object_fit": null,
            "object_position": null,
            "order": null,
            "overflow": null,
            "overflow_x": null,
            "overflow_y": null,
            "padding": null,
            "right": null,
            "top": null,
            "visibility": null,
            "width": null
          }
        },
        "a19f4a48ceaa4bc2aa9912377b9c3d85": {
          "model_module": "@jupyter-widgets/controls",
          "model_name": "DescriptionStyleModel",
          "model_module_version": "1.5.0",
          "state": {
            "_model_module": "@jupyter-widgets/controls",
            "_model_module_version": "1.5.0",
            "_model_name": "DescriptionStyleModel",
            "_view_count": null,
            "_view_module": "@jupyter-widgets/base",
            "_view_module_version": "1.2.0",
            "_view_name": "StyleView",
            "description_width": ""
          }
        },
        "24dceb6d22974a72abcdc25f42638212": {
          "model_module": "@jupyter-widgets/base",
          "model_name": "LayoutModel",
          "model_module_version": "1.2.0",
          "state": {
            "_model_module": "@jupyter-widgets/base",
            "_model_module_version": "1.2.0",
            "_model_name": "LayoutModel",
            "_view_count": null,
            "_view_module": "@jupyter-widgets/base",
            "_view_module_version": "1.2.0",
            "_view_name": "LayoutView",
            "align_content": null,
            "align_items": null,
            "align_self": null,
            "border": null,
            "bottom": null,
            "display": null,
            "flex": null,
            "flex_flow": null,
            "grid_area": null,
            "grid_auto_columns": null,
            "grid_auto_flow": null,
            "grid_auto_rows": null,
            "grid_column": null,
            "grid_gap": null,
            "grid_row": null,
            "grid_template_areas": null,
            "grid_template_columns": null,
            "grid_template_rows": null,
            "height": null,
            "justify_content": null,
            "justify_items": null,
            "left": null,
            "margin": null,
            "max_height": null,
            "max_width": null,
            "min_height": null,
            "min_width": null,
            "object_fit": null,
            "object_position": null,
            "order": null,
            "overflow": null,
            "overflow_x": null,
            "overflow_y": null,
            "padding": null,
            "right": null,
            "top": null,
            "visibility": null,
            "width": null
          }
        },
        "8d1d88bbba18490aa7f5dcfdaf82233a": {
          "model_module": "@jupyter-widgets/controls",
          "model_name": "ProgressStyleModel",
          "model_module_version": "1.5.0",
          "state": {
            "_model_module": "@jupyter-widgets/controls",
            "_model_module_version": "1.5.0",
            "_model_name": "ProgressStyleModel",
            "_view_count": null,
            "_view_module": "@jupyter-widgets/base",
            "_view_module_version": "1.2.0",
            "_view_name": "StyleView",
            "bar_color": null,
            "description_width": ""
          }
        },
        "d67eda366e6d4e1baf2839d849af1f62": {
          "model_module": "@jupyter-widgets/base",
          "model_name": "LayoutModel",
          "model_module_version": "1.2.0",
          "state": {
            "_model_module": "@jupyter-widgets/base",
            "_model_module_version": "1.2.0",
            "_model_name": "LayoutModel",
            "_view_count": null,
            "_view_module": "@jupyter-widgets/base",
            "_view_module_version": "1.2.0",
            "_view_name": "LayoutView",
            "align_content": null,
            "align_items": null,
            "align_self": null,
            "border": null,
            "bottom": null,
            "display": null,
            "flex": null,
            "flex_flow": null,
            "grid_area": null,
            "grid_auto_columns": null,
            "grid_auto_flow": null,
            "grid_auto_rows": null,
            "grid_column": null,
            "grid_gap": null,
            "grid_row": null,
            "grid_template_areas": null,
            "grid_template_columns": null,
            "grid_template_rows": null,
            "height": null,
            "justify_content": null,
            "justify_items": null,
            "left": null,
            "margin": null,
            "max_height": null,
            "max_width": null,
            "min_height": null,
            "min_width": null,
            "object_fit": null,
            "object_position": null,
            "order": null,
            "overflow": null,
            "overflow_x": null,
            "overflow_y": null,
            "padding": null,
            "right": null,
            "top": null,
            "visibility": null,
            "width": null
          }
        },
        "57995e173b7e418098fd5a14d7cf71e9": {
          "model_module": "@jupyter-widgets/controls",
          "model_name": "DescriptionStyleModel",
          "model_module_version": "1.5.0",
          "state": {
            "_model_module": "@jupyter-widgets/controls",
            "_model_module_version": "1.5.0",
            "_model_name": "DescriptionStyleModel",
            "_view_count": null,
            "_view_module": "@jupyter-widgets/base",
            "_view_module_version": "1.2.0",
            "_view_name": "StyleView",
            "description_width": ""
          }
        }
      }
    }
  },
  "cells": [
    {
      "cell_type": "markdown",
      "source": [
        "# Data Processing (Done)"
      ],
      "metadata": {
        "id": "Rhpt9WT_XZTB"
      }
    },
    {
      "cell_type": "code",
      "source": [
        "import pandas as pd\n",
        "import numpy as np\n",
        "import os"
      ],
      "metadata": {
        "id": "GIeOFHyfj73C"
      },
      "execution_count": null,
      "outputs": []
    },
    {
      "cell_type": "code",
      "source": [
        "!git clone https://github.com/mokcho/HALLM.git"
      ],
      "metadata": {
        "colab": {
          "base_uri": "https://localhost:8080/"
        },
        "id": "TrUf1H_0CIvX",
        "outputId": "1244c0f3-d508-490f-eb80-e35e372e6e1b"
      },
      "execution_count": null,
      "outputs": [
        {
          "output_type": "stream",
          "name": "stdout",
          "text": [
            "Cloning into 'HALLM'...\n",
            "remote: Enumerating objects: 85, done.\u001b[K\n",
            "remote: Counting objects: 100% (85/85), done.\u001b[K\n",
            "remote: Compressing objects: 100% (70/70), done.\u001b[K\n",
            "remote: Total 85 (delta 30), reused 29 (delta 6), pack-reused 0 (from 0)\u001b[K\n",
            "Receiving objects: 100% (85/85), 1.33 MiB | 18.35 MiB/s, done.\n",
            "Resolving deltas: 100% (30/30), done.\n"
          ]
        }
      ]
    },
    {
      "cell_type": "code",
      "source": [
        "%cd /content/HALLM\n",
        "%ls\n",
        "\n",
        "# need put Soham data in prepare folder"
      ],
      "metadata": {
        "colab": {
          "base_uri": "https://localhost:8080/"
        },
        "id": "_95PfWzCSS_J",
        "outputId": "1724147b-385d-4e31-9f49-dba90588310a"
      },
      "execution_count": null,
      "outputs": [
        {
          "output_type": "stream",
          "name": "stdout",
          "text": [
            "/content/HALLM\n",
            "\u001b[0m\u001b[01;34mdata\u001b[0m/  LICENSE  README.md  requirements.txt\n"
          ]
        }
      ]
    },
    {
      "cell_type": "markdown",
      "source": [
        "## Tackle the AudioCap data"
      ],
      "metadata": {
        "id": "62ArIo2JctqY"
      }
    },
    {
      "cell_type": "code",
      "source": [
        "!./data/prepare/audiocaps.sh\n"
      ],
      "metadata": {
        "id": "whkMTJntxeQm"
      },
      "execution_count": null,
      "outputs": []
    },
    {
      "cell_type": "code",
      "source": [
        "def download_audio(youtube_id, start_time, output_directory, duration=10):\n",
        "    try:\n",
        "        os.makedirs(output_directory, exist_ok=True)\n",
        "\n",
        "        output_file = f'{output_directory}/{youtube_id}.wav'\n",
        "        if os.path.exists(output_file):\n",
        "            print(f\"File already exists, skipping: {output_file}\")\n",
        "            return  # Skip downloading and processing if the file already exists\n",
        "\n",
        "\n",
        "        ydl_opts = {\n",
        "            'format': 'bestaudio/best',\n",
        "            'noplaylist': True,\n",
        "            'outtmpl': f'./tmp/{youtube_id}.%(ext)s',\n",
        "            'quiet': True\n",
        "        }\n",
        "        url = f'https://www.youtube.com/watch?v={youtube_id}'\n",
        "\n",
        "        with YoutubeDL(ydl_opts) as ydl:\n",
        "            info = ydl.extract_info(url, download=True)\n",
        "            original_file = ydl.prepare_filename(info)\n",
        "\n",
        "            # Load the downloaded audio from tmp\n",
        "            audio = AudioSegment.from_file(original_file)\n",
        "\n",
        "            # Resample the audio to 44.1 kHz\n",
        "            audio = audio.set_frame_rate(44100)\n",
        "\n",
        "            # Extract the 10-second clip\n",
        "            start_ms = start_time * 1000\n",
        "            end_ms = start_ms + (duration * 1000)\n",
        "            audio_clip = audio[start_ms:end_ms]\n",
        "\n",
        "            # Ensure the output directory exists for storing the final clipped .wav file\n",
        "            os.makedirs(output_directory, exist_ok=True)\n",
        "\n",
        "            # Save the clipped file as a .wav file in the output directory\n",
        "            output_file = f'{output_directory}/{youtube_id}.wav'\n",
        "            audio_clip.export(output_file, format='wav')  # Save clipped file as .wav\n",
        "\n",
        "            # Clean up the original file in tmp\n",
        "            if os.path.exists(original_file):\n",
        "                os.remove(original_file)\n",
        "    except Exception as e:\n",
        "        print(f\"Failed to download or process {youtube_id}: {e}\")\n",
        "\n",
        "def process_dataset(csv_file, output_directory) :\n",
        "    with open(csv_file, newline='') as file :\n",
        "        tmp_directory = \"./tmp\"\n",
        "        os.makedirs(tmp_directory, exist_ok=True)\n",
        "        reader = csv.reader(file)\n",
        "        next(reader)  # Skip the header\n",
        "        for row in tqdm(reader, desc=f\"Processing {os.path.basename(csv_file)}\", unit=\"clip\"):\n",
        "            audiocaps_id, youtube_id, start_time, caption = row\n",
        "            download_audio(youtube_id, int(start_time), output_directory)\n",
        "\n"
      ],
      "metadata": {
        "id": "Hh-2aY2LuRl8"
      },
      "execution_count": null,
      "outputs": []
    },
    {
      "cell_type": "code",
      "source": [
        "# download the audio constructing ACE from AudioCaps\n",
        "csv_file = \"./data/AudioCaps/annotation/test.csv\"\n",
        "output_directory = \"./data/AudioCaps/audio\"\n",
        "process_dataset(csv_file, output_directory)"
      ],
      "metadata": {
        "id": "CsCtj7GvbIFx"
      },
      "execution_count": null,
      "outputs": []
    },
    {
      "cell_type": "markdown",
      "source": [
        "## Tackle Clotho data"
      ],
      "metadata": {
        "id": "_HqMueQ3cy4H"
      }
    },
    {
      "cell_type": "code",
      "source": [
        "!./data/prepare/clotho.sh"
      ],
      "metadata": {
        "id": "XDNi6DfGBTn3",
        "colab": {
          "base_uri": "https://localhost:8080/"
        },
        "outputId": "ee08bd61-7538-4d8d-dc3f-1f6d83e8f4c6"
      },
      "execution_count": null,
      "outputs": [
        {
          "output_type": "stream",
          "name": "stdout",
          "text": [
            "/bin/bash: line 1: ./data/prepare/clotho.sh: No such file or directory\n"
          ]
        }
      ]
    },
    {
      "cell_type": "code",
      "source": [
        "CLO_dev = \"/content/HALLM/data/Clotho/caption/dev.csv\"\n",
        "CLOE_dev = \"/content/HALLM/data/Clotho/entailment/clotho_development_gpt4.csv\"\n",
        "CLO_val = \"/content/HALLM/data/Clotho/caption/val.csv\"\n",
        "CLOE_val = \"/content/HALLM/data/Clotho/entailment/clotho_validation_gpt4.csv\"\n",
        "CLO_eval = \"/content/HALLM/data/Clotho/caption/eval.csv\"\n",
        "CLOE_eval = \"/content/HALLM/data/Clotho/entailment/clotho_evaluation_gpt4.csv\"\n",
        "\n",
        "\n",
        "\n",
        "df_CLO_dev = pd.read_csv(CLO_dev)\n",
        "df_CLOE_dev = pd.read_csv(CLOE_dev)\n",
        "df_CLO_val = pd.read_csv(CLO_val)\n",
        "df_CLOE_val = pd.read_csv(CLOE_val)\n",
        "df_CLO_eval = pd.read_csv(CLO_eval)\n",
        "df_CLOE_eval = pd.read_csv(CLOE_eval)\n",
        "\n",
        "\n",
        "print(\"Row number of CLotho development dataset is \" + str(len(df_CLO_dev)))\n",
        "print(\"Row number of CLotho development caption dataset is \" + str(len(df_CLOE_dev)))\n",
        "print(\"Row number of CLotho validation dataset is \" + str(len(df_CLO_val)))\n",
        "print(\"Row number of CLotho validation caption dataset is \" + str(len(df_CLOE_val)))\n",
        "print(\"Row number of CLotho evaluation dataset is \" + str(len(df_CLO_eval)))\n",
        "print(\"Row number of CLotho evaluation caption dataset is \" + str(len(df_CLOE_eval)))\n"
      ],
      "metadata": {
        "colab": {
          "base_uri": "https://localhost:8080/"
        },
        "id": "6Ks7L7vIc3fh",
        "outputId": "de37f6f6-b408-4736-fbe9-ce6815b5002b"
      },
      "execution_count": null,
      "outputs": [
        {
          "output_type": "stream",
          "name": "stdout",
          "text": [
            "Row number of CLotho development dataset is 3839\n",
            "Row number of CLotho development caption dataset is 3839\n",
            "Row number of CLotho validation dataset is 1045\n",
            "Row number of CLotho validation caption dataset is 1045\n",
            "Row number of CLotho evaluation dataset is 1045\n",
            "Row number of CLotho evaluation caption dataset is 1045\n"
          ]
        }
      ]
    },
    {
      "cell_type": "code",
      "source": [
        "# check for Clotho dataset\n",
        "Clotho_dev_audio_files = os.listdir(\"/content/HALLM/data/Clotho/audio/development\")\n",
        "print(df_CLO_dev[\"file_name\"].isin(Clotho_dev_audio_files).value_counts())\n",
        "\n",
        "Clotho_val_audio_files = os.listdir(\"/content/HALLM/data/Clotho/audio/validation\")\n",
        "print(df_CLO_val[\"file_name\"].isin(Clotho_val_audio_files).value_counts())\n",
        "\n",
        "Clotho_eval_audio_files = os.listdir(\"/content/HALLM/data/Clotho/audio/evaluation\")\n",
        "print(df_CLO_eval[\"file_name\"].isin(Clotho_eval_audio_files).value_counts())\n",
        "# The upper result shows that the file name from caption csv in Clotho dataset is exactly the same with audio file name\n",
        "\n",
        "print(\"=========Start to check for CLOE===========\")\n",
        "# check for CLOE data set\n",
        "Clotho_dev_audio_files = os.listdir(\"/content/HALLM/data/Clotho/audio/development\")\n",
        "print(df_CLOE_dev[\"Audio file\"].isin(Clotho_dev_audio_files).value_counts())\n",
        "\n",
        "Clotho_val_audio_files = os.listdir(\"/content/HALLM/data/Clotho/audio/validation\")\n",
        "print(df_CLOE_val[\"Audio file\"].isin(Clotho_val_audio_files).value_counts())\n",
        "\n",
        "Clotho_eval_audio_files = os.listdir(\"/content/HALLM/data/Clotho/audio/evaluation\")\n",
        "print(df_CLOE_eval[\"Audio file\"].isin(Clotho_eval_audio_files).value_counts())\n",
        "# The result shows that some of the file names are not aligned\n",
        "\n",
        "print(\"=========Start to check for CLOE and CLO relationship===========\")\n",
        "print((df_CLOE_dev[\"Audio file\"] == df_CLO_dev[\"file_name\"]).value_counts())\n",
        "a = df_CLOE_dev[(df_CLOE_dev[\"Audio file\"] != df_CLO_dev[\"file_name\"])][\"Audio file\"]\n",
        "b = df_CLO_dev[(df_CLOE_dev[\"Audio file\"] != df_CLO_dev[\"file_name\"])][\"file_name\"]\n",
        "print(a.iloc[0])\n",
        "print(b.iloc[0])\n",
        "print(\"We can find here the difference is the space in the start of file name in CLOE dataset \")\n",
        "print(\"We can also find the data order of CLO and CLOE is aligned!\")\n",
        "print(\"Same for valid and eval data\")\n",
        "\n",
        "\n",
        "# print((df_CLOE_val[\"Audio file\"] == df_CLO_val[\"file_name\"]).value_counts())\n",
        "# print((df_CLOE_eval[\"Audio file\"] == df_CLO_eval[\"file_name\"]).value_counts())\n"
      ],
      "metadata": {
        "colab": {
          "base_uri": "https://localhost:8080/"
        },
        "id": "47O3hr89KCXg",
        "outputId": "90f1a988-7577-49c8-bc10-830ce580e750"
      },
      "execution_count": null,
      "outputs": [
        {
          "output_type": "stream",
          "name": "stdout",
          "text": [
            "file_name\n",
            "True    3839\n",
            "Name: count, dtype: int64\n",
            "file_name\n",
            "True    1045\n",
            "Name: count, dtype: int64\n",
            "file_name\n",
            "True    1045\n",
            "Name: count, dtype: int64\n",
            "=========Start to check for CLOE===========\n",
            "Audio file\n",
            "True     3837\n",
            "False       2\n",
            "Name: count, dtype: int64\n",
            "Audio file\n",
            "True     1044\n",
            "False       1\n",
            "Name: count, dtype: int64\n",
            "Audio file\n",
            "True    1045\n",
            "Name: count, dtype: int64\n",
            "=========Start to check for CLOE and CLO relationship===========\n",
            "True     3837\n",
            "False       2\n",
            "Name: count, dtype: int64\n",
            "typical neighborhood in Porto.wav\n",
            " typical neighborhood in Porto.wav\n",
            "We can find here the difference is the space in the start of file name in CLOE dataset \n",
            "We can also find the data order of CLO and CLOE is aligned!\n",
            "Same for valid and eval data\n"
          ]
        }
      ]
    },
    {
      "cell_type": "code",
      "source": [
        "# We can substitue CLOE file column as CLO file column\n",
        "df_CLOE_dev[\"Audio file\"] = df_CLO_dev[\"file_name\"]\n",
        "df_CLOE_val[\"Audio file\"] = df_CLO_val[\"file_name\"]\n",
        "df_CLOE_eval[\"Audio file\"] = df_CLO_eval[\"file_name\"]"
      ],
      "metadata": {
        "id": "ISSkQttHiDeE"
      },
      "execution_count": null,
      "outputs": []
    },
    {
      "cell_type": "markdown",
      "source": [
        "## Load Model"
      ],
      "metadata": {
        "id": "RelQkxezuPts"
      }
    },
    {
      "cell_type": "code",
      "source": [
        "!pip install msclap\n"
      ],
      "metadata": {
        "id": "qD9Y4N-quOHE"
      },
      "execution_count": null,
      "outputs": []
    },
    {
      "cell_type": "code",
      "source": [
        "from msclap import CLAP\n",
        "\n",
        "# Load model (Choose between versions '2022' or '2023')\n",
        "# The model weight will be downloaded automatically if `model_fp` is not specified\n",
        "clap_model = CLAP(version = '2022', use_cuda=False)\n",
        "\n",
        "# # Extract text embeddings\n",
        "# text_embeddings = clap_model.get_text_embeddings(class_labels: List[str])\n",
        "\n",
        "# # Extract audio embeddings\n",
        "# audio_embeddings = clap_model.get_audio_embeddings(file_paths: List[str])\n",
        "\n",
        "# # Compute similarity between audio and text embeddings\n",
        "# similarities = clap_model.compute_similarity(audio_embeddings, text_embeddings)"
      ],
      "metadata": {
        "id": "mFAg9rj57lr3",
        "colab": {
          "base_uri": "https://localhost:8080/",
          "height": 209,
          "referenced_widgets": [
            "ff370c5bfb5c4584b94d56b77c5f9668",
            "2a6322e25cd64d638b8a4a582eef8fe3",
            "f9c68fa6c6f54cc2a780e303081401c9",
            "88b584698e0e45d7b9e11067e97df508",
            "9a0f50c875cc4b7b8d33cfb07ec0bd04",
            "b86fcad39baf4e66816ca832a79005bb",
            "3dc063e9276a4ba18d117cbe2ca2bee2",
            "7eff330a95434f1ca012be697aba3886",
            "5f7cd1d1420a43a49ace57fa0b84ea51",
            "c9078cc69356485d9ce3d06180841dab",
            "798bee6621f44d9e8b678c52d4c885a5",
            "31e717324455476f9742b97992a2e2a5",
            "ceb1cbff5df84d8ca589c9515522f6e3",
            "68b2ea4bf5ec4ebda25a077b10ef407b",
            "ae6259718f6743228dd8a6d62df1af4e",
            "2d4d58595d914cc0abd6ff6a8581d899",
            "56dbe5119ccb4a12ab64fb9ecd2313bb",
            "b592a1461c4b43f5b9289e9eb10f1570",
            "dd9d543ff98045098fc0ca6511f9e486",
            "d8c2dcd9fed1435bbda02054bc607826",
            "24b30a7a6f7b42f386343d9c1ada880b",
            "279f1f952b6f4dccbc70c86572b910cd",
            "615f1ca6837d48d689c9e6ae9d149d08",
            "8a994c76d347454797dde42cbc4ff862",
            "d2d6d450727f40e7844b41fab39e1275",
            "79ad456101604deca5cac378fb419b2f",
            "f5e89595228e4675a16088daceede9bb",
            "9f9eb2d5084a4eeeb9a6621161d805ab",
            "0baa400b6d344c2ab5bcbe0f1a4c2992",
            "798be5fedd814f4a933f0bd07f5dda6a",
            "c349a65e1062491299941c917d809da9",
            "30b79583feb2442f9d5e37a5fd56dd22",
            "d0f1fe6dee8648299b12b33105c4f0ef",
            "fba1e3589c5545b29ac60ee591947725",
            "fc91a902d44e450cbecfd89223c34a17",
            "0d56ad1ca0ff44aab50621814ad2435c",
            "c1073b45d7114fd59ad1c833a292c5db",
            "bd7fc87fd31d454c859e4fa22d8226d1",
            "1f98c3aeddf44d3c8343419dccca67ca",
            "185b14f9d8274c4a9a9d194955b018ad",
            "6726b61eab384b37a10737383ad5c906",
            "dbf390c2b402403fbdcf2e316e48dee3",
            "34c932c58a1743cfb11dea84556dd3cf",
            "935bc0e4cc4b44d0a65de8bbe85934fb",
            "be8dbae499c546b695e76d742c2b0744",
            "07de55b57783498386f9b794a91782ec",
            "227ef89fe3404f0681a0e0c69046c68c",
            "2f9e5e98e2d443c18bc2c3ef88e31f41",
            "6b9e989ee8ae48d2a04e42b5d47f7ec3",
            "4a3e19303a3c4eb2b15d01f11e335bd2",
            "15b7963756ad4181ba15ed5d06830e39",
            "04d31891f08441549f4042278387f156",
            "df408278e6a24072a7f1fbad5c99a1a2",
            "3cdff7b6c48a46138063d9a9a3c794be",
            "42d8ca46c6d34352aef4df50d48846b9",
            "77ebc54cbbd146f99b998163f0f60279",
            "0265d507cf4741bfa34fc1d72a91cbea",
            "0d2aa31d277f4cbda2ebec8343d336be",
            "d7265178552540ccb585b35b678b2a89",
            "52bcc4730a90499da5f02999f9479c4c",
            "9f0003acbe674533948d4dc391214213",
            "a19f4a48ceaa4bc2aa9912377b9c3d85",
            "24dceb6d22974a72abcdc25f42638212",
            "8d1d88bbba18490aa7f5dcfdaf82233a",
            "d67eda366e6d4e1baf2839d849af1f62",
            "57995e173b7e418098fd5a14d7cf71e9"
          ]
        },
        "outputId": "7f94b35c-6359-4528-eedd-f385a66c6205"
      },
      "execution_count": null,
      "outputs": [
        {
          "output_type": "display_data",
          "data": {
            "text/plain": [
              "CLAP_weights_2022.pth:   0%|          | 0.00/2.33G [00:00<?, ?B/s]"
            ],
            "application/vnd.jupyter.widget-view+json": {
              "version_major": 2,
              "version_minor": 0,
              "model_id": "ff370c5bfb5c4584b94d56b77c5f9668"
            }
          },
          "metadata": {}
        },
        {
          "output_type": "display_data",
          "data": {
            "text/plain": [
              "config.json:   0%|          | 0.00/570 [00:00<?, ?B/s]"
            ],
            "application/vnd.jupyter.widget-view+json": {
              "version_major": 2,
              "version_minor": 0,
              "model_id": "31e717324455476f9742b97992a2e2a5"
            }
          },
          "metadata": {}
        },
        {
          "output_type": "display_data",
          "data": {
            "text/plain": [
              "model.safetensors:   0%|          | 0.00/440M [00:00<?, ?B/s]"
            ],
            "application/vnd.jupyter.widget-view+json": {
              "version_major": 2,
              "version_minor": 0,
              "model_id": "615f1ca6837d48d689c9e6ae9d149d08"
            }
          },
          "metadata": {}
        },
        {
          "output_type": "display_data",
          "data": {
            "text/plain": [
              "tokenizer_config.json:   0%|          | 0.00/48.0 [00:00<?, ?B/s]"
            ],
            "application/vnd.jupyter.widget-view+json": {
              "version_major": 2,
              "version_minor": 0,
              "model_id": "fba1e3589c5545b29ac60ee591947725"
            }
          },
          "metadata": {}
        },
        {
          "output_type": "display_data",
          "data": {
            "text/plain": [
              "vocab.txt:   0%|          | 0.00/232k [00:00<?, ?B/s]"
            ],
            "application/vnd.jupyter.widget-view+json": {
              "version_major": 2,
              "version_minor": 0,
              "model_id": "be8dbae499c546b695e76d742c2b0744"
            }
          },
          "metadata": {}
        },
        {
          "output_type": "display_data",
          "data": {
            "text/plain": [
              "tokenizer.json:   0%|          | 0.00/466k [00:00<?, ?B/s]"
            ],
            "application/vnd.jupyter.widget-view+json": {
              "version_major": 2,
              "version_minor": 0,
              "model_id": "77ebc54cbbd146f99b998163f0f60279"
            }
          },
          "metadata": {}
        }
      ]
    },
    {
      "cell_type": "markdown",
      "source": [
        "## audio embedding"
      ],
      "metadata": {
        "id": "iEj8YAAzu-Uy"
      }
    },
    {
      "cell_type": "code",
      "source": [
        "import torch"
      ],
      "metadata": {
        "id": "MsBv4vDDnyqk"
      },
      "execution_count": null,
      "outputs": []
    },
    {
      "cell_type": "code",
      "source": [
        "def process_audio_data(df, root, batch_size = 200):\n",
        "  files = df[\"Audio file\"].tolist()\n",
        "  files = [os.path.join(root, file) for file in files]\n",
        "  audio_embeddings = []\n",
        "\n",
        "  for i in range(0, len(files), batch_size):\n",
        "    audio_embeddings_batch = clap_model.get_audio_embeddings(files[i:i+batch_size])\n",
        "    audio_embeddings.extend(audio_embeddings_batch)\n",
        "    del audio_embeddings_batch\n",
        "\n",
        "  audio_embeddings = torch.stack(audio_embeddings)\n",
        "  return audio_embeddings\n"
      ],
      "metadata": {
        "id": "exy7JR1h5y7M"
      },
      "execution_count": null,
      "outputs": []
    },
    {
      "cell_type": "code",
      "source": [
        "dev_audio_embedding = process_audio_data(df_CLOE_dev, \"/content/HALLM/data/Clotho/audio/development\")\n",
        "torch.save(dev_audio_embedding, '/content/drive/MyDrive/Dataset/11785 Project/dev_audio_embeddings')"
      ],
      "metadata": {
        "id": "Uj5VqxGM8WcV"
      },
      "execution_count": null,
      "outputs": []
    },
    {
      "cell_type": "code",
      "source": [
        "dev_audio_embedding.shape"
      ],
      "metadata": {
        "colab": {
          "base_uri": "https://localhost:8080/"
        },
        "id": "1geCmgkRvNwa",
        "outputId": "4cb426ba-9e06-4dea-cb2a-47d91484ee89"
      },
      "execution_count": null,
      "outputs": [
        {
          "output_type": "execute_result",
          "data": {
            "text/plain": [
              "torch.Size([3839, 1024])"
            ]
          },
          "metadata": {},
          "execution_count": 36
        }
      ]
    },
    {
      "cell_type": "code",
      "source": [
        "val_audio_embedding = process_audio_data(df_CLOE_val, \"/content/HALLM/data/Clotho/audio/validation\")\n",
        "torch.save(val_audio_embedding, '/content/drive/MyDrive/Dataset/11785 Project/val_audio_embeddings')"
      ],
      "metadata": {
        "id": "hVU9Zs1MqMBj"
      },
      "execution_count": null,
      "outputs": []
    },
    {
      "cell_type": "code",
      "source": [
        "eval_audio_embedding = process_audio_data(df_CLOE_eval, \"/content/HALLM/data/Clotho/audio/evaluation\")\n",
        "torch.save(eval_audio_embedding, '/content/drive/MyDrive/Dataset/11785 Project/eval_audio_embeddings')"
      ],
      "metadata": {
        "id": "-8JlSH8sqdyl"
      },
      "execution_count": null,
      "outputs": []
    },
    {
      "cell_type": "markdown",
      "source": [
        "## text embedding"
      ],
      "metadata": {
        "id": "p30-MnTuu7oV"
      }
    },
    {
      "cell_type": "code",
      "source": [
        "def process_entailment_data(df):\n",
        "  df_entailment = pd.DataFrame()\n",
        "  labels = [\"Entailment\", \"Neutral\", \"Contradiction\"]\n",
        "  for i, label in enumerate(labels):\n",
        "    if df_entailment is None:\n",
        "      temp = df[[\"Audio file\", \"Caption\", label]]\n",
        "      temp.rename(columns={label: 'Hypothese'}, inplace=True)\n",
        "      temp[\"label\"] = i\n",
        "      df_entailment = temp\n",
        "    else:\n",
        "      temp = df[[\"Audio file\", \"Caption\", label]]\n",
        "      temp.rename(columns={label: 'Hypothese'}, inplace=True)\n",
        "      temp[\"label\"] = i\n",
        "      df_entailment = pd.concat([df_entailment, temp], ignore_index = True)\n",
        "  return df_entailment\n",
        "\n",
        "def batch_process_text_data(df, batch_size = 500):\n",
        "  text_embeddings = []\n",
        "  total_text = df[\"Hypothese\"].tolist()\n",
        "  for i in range(0, len(df), batch_size):\n",
        "    batch = total_text[i:i+batch_size]\n",
        "    text_embeddings_batch = clap_model.get_text_embeddings(batch)\n",
        "    text_embeddings.extend(text_embeddings_batch)\n",
        "    del text_embeddings_batch\n",
        "  text_embeddings = torch.stack(text_embeddings)\n",
        "  return text_embeddings"
      ],
      "metadata": {
        "id": "fvn9MbWnOD17"
      },
      "execution_count": null,
      "outputs": []
    },
    {
      "cell_type": "code",
      "source": [
        "dev_entailment = process_entailment_data(df_CLOE_dev)\n",
        "dev_text_embedding = batch_process_text_data(dev_entailment)\n",
        "torch.save(dev_text_embedding, '/content/drive/MyDrive/Dataset/11785 Project/dev_text_embeddings')"
      ],
      "metadata": {
        "id": "RewdlN9JomRy"
      },
      "execution_count": null,
      "outputs": []
    },
    {
      "cell_type": "code",
      "source": [
        "val_entailment = process_entailment_data(df_CLOE_val)\n",
        "val_text_embedding = batch_process_text_data(val_entailment)\n",
        "torch.save(val_text_embedding, '/content/drive/MyDrive/Dataset/11785 Project/val_text_embeddings')"
      ],
      "metadata": {
        "id": "2tq5muzurhG5"
      },
      "execution_count": null,
      "outputs": []
    },
    {
      "cell_type": "code",
      "source": [
        "eval_entailment = process_entailment_data(df_CLOE_eval)\n",
        "eval_text_embedding = batch_process_text_data(eval_entailment)\n",
        "torch.save(eval_text_embedding, '/content/drive/MyDrive/Dataset/11785 Project/eval_text_embeddings')"
      ],
      "metadata": {
        "id": "sErfsxH3rn0k"
      },
      "execution_count": null,
      "outputs": []
    },
    {
      "cell_type": "markdown",
      "source": [
        "## label"
      ],
      "metadata": {
        "id": "NgTqjI09PCOo"
      }
    },
    {
      "cell_type": "code",
      "source": [
        "dev_label = torch.tensor(dev_entailment[\"label\"].tolist())\n",
        "val_label = torch.tensor(val_entailment[\"label\"].tolist())\n",
        "eval_label = torch.tensor(eval_entailment[\"label\"].tolist())\n",
        "\n",
        "torch.save(dev_label, '/content/drive/MyDrive/Dataset/11785 Project/dev_label')\n",
        "torch.save(val_label, '/content/drive/MyDrive/Dataset/11785 Project/val_label')\n",
        "torch.save(eval_label, '/content/drive/MyDrive/Dataset/11785 Project/eval_label')"
      ],
      "metadata": {
        "id": "vltoWQsqOtKC"
      },
      "execution_count": null,
      "outputs": []
    },
    {
      "cell_type": "markdown",
      "source": [
        "# Classifer Model"
      ],
      "metadata": {
        "id": "lCbW5SMhXdq9"
      }
    },
    {
      "cell_type": "code",
      "source": [
        "!pip install torchsummaryX==1.1.0 wandb --quiet"
      ],
      "metadata": {
        "id": "HJH5vXu-Gxkl"
      },
      "execution_count": null,
      "outputs": []
    },
    {
      "cell_type": "code",
      "source": [
        "import torch\n",
        "import numpy as np\n",
        "from torchsummaryX import summary\n",
        "import sklearn\n",
        "import gc\n",
        "import zipfile\n",
        "import pandas as pd\n",
        "from tqdm.auto import tqdm\n",
        "import os\n",
        "import datetime\n",
        "import wandb\n",
        "from torch.optim import lr_scheduler\n",
        "from sklearn.metrics import precision_score, recall_score, f1_score, accuracy_score\n",
        "device = 'cuda' if torch.cuda.is_available() else 'cpu'\n",
        "print(\"Device: \", device)"
      ],
      "metadata": {
        "colab": {
          "base_uri": "https://localhost:8080/"
        },
        "id": "phQAKjrw0XDM",
        "outputId": "77007762-a426-46d5-8578-4476620d29f6"
      },
      "execution_count": null,
      "outputs": [
        {
          "output_type": "stream",
          "name": "stdout",
          "text": [
            "Device:  cuda\n"
          ]
        }
      ]
    },
    {
      "cell_type": "code",
      "source": [
        "from google.colab import drive\n",
        "drive.mount('/content/drive', force_remount=True)"
      ],
      "metadata": {
        "colab": {
          "base_uri": "https://localhost:8080/"
        },
        "id": "pDG2ZfGqGtAk",
        "outputId": "3e957156-efaf-4139-a4a3-631b30901476"
      },
      "execution_count": null,
      "outputs": [
        {
          "output_type": "stream",
          "name": "stdout",
          "text": [
            "Mounted at /content/drive\n"
          ]
        }
      ]
    },
    {
      "cell_type": "code",
      "source": [
        "dev_audio = torch.load(\"/content/drive/MyDrive/Dataset/11785 Project/dev_audio_embeddings\", weights_only=True)\n",
        "dev_audio = dev_audio.repeat(3,1)\n",
        "dev_text = torch.load(\"/content/drive/MyDrive/Dataset/11785 Project/dev_text_embeddings\", weights_only=True)\n",
        "dev_label = torch.load(\"/content/drive/MyDrive/Dataset/11785 Project/dev_label\", weights_only=True)\n",
        "\n",
        "val_audio = torch.load(\"/content/drive/MyDrive/Dataset/11785 Project/val_audio_embeddings\", weights_only=True)\n",
        "val_audio = val_audio.repeat(3,1)\n",
        "val_text = torch.load(\"/content/drive/MyDrive/Dataset/11785 Project/val_text_embeddings\", weights_only=True)\n",
        "val_label = torch.load(\"/content/drive/MyDrive/Dataset/11785 Project/val_label\", weights_only=True)\n",
        "\n",
        "eval_audio = torch.load(\"/content/drive/MyDrive/Dataset/11785 Project/eval_audio_embeddings\", weights_only=True)\n",
        "eval_audio = eval_audio.repeat(3,1)\n",
        "eval_text = torch.load(\"/content/drive/MyDrive/Dataset/11785 Project/eval_text_embeddings\", weights_only=True)\n",
        "eval_label = torch.load(\"/content/drive/MyDrive/Dataset/11785 Project/eval_label\", weights_only=True)"
      ],
      "metadata": {
        "id": "wRQrWO32GdOW"
      },
      "execution_count": null,
      "outputs": []
    },
    {
      "cell_type": "code",
      "source": [
        "print(\"The shape of dev aduio is: \", dev_audio.shape)\n",
        "print(\"The shape of dev text is: \", dev_text.shape)\n",
        "print(\"The shape of dev label is: \", dev_label.shape)\n",
        "\n",
        "print(\"The shape of val aduio is: \", val_audio.shape)\n",
        "print(\"The shape of val text is: \", val_text.shape)\n",
        "print(\"The shape of val label is: \", val_label.shape)\n",
        "\n",
        "print(\"The shape of eval aduio is: \", eval_audio.shape)\n",
        "print(\"The shape of eval text is: \", eval_text.shape)\n",
        "print(\"The shape of eval label is: \", eval_label.shape)\n",
        "\n"
      ],
      "metadata": {
        "colab": {
          "base_uri": "https://localhost:8080/"
        },
        "id": "s9Nno9lFyE4f",
        "outputId": "07d123b0-0131-46e3-fb18-f4be9a50778e"
      },
      "execution_count": null,
      "outputs": [
        {
          "output_type": "stream",
          "name": "stdout",
          "text": [
            "The shape of dev aduio is:  torch.Size([11517, 1024])\n",
            "The shape of dev text is:  torch.Size([11517, 1024])\n",
            "The shape of dev label is:  torch.Size([11517])\n",
            "The shape of val aduio is:  torch.Size([3135, 1024])\n",
            "The shape of val text is:  torch.Size([3135, 1024])\n",
            "The shape of val label is:  torch.Size([3135])\n",
            "The shape of eval aduio is:  torch.Size([3135, 1024])\n",
            "The shape of eval text is:  torch.Size([3135, 1024])\n",
            "The shape of eval label is:  torch.Size([3135])\n"
          ]
        }
      ]
    },
    {
      "cell_type": "code",
      "source": [
        "config = {\n",
        "    'epochs'        : 50,\n",
        "    'batch_size'    : 32,\n",
        "    'init_lr'       : 1e-4,\n",
        "    \"weight_decay\": 1e-5,\n",
        "    \"drop_out\": 0.2\n",
        "    # Add more as you need them - e.g dropout values, weight decay, scheduler parameters\n",
        "}"
      ],
      "metadata": {
        "id": "Bh-xql7zIDjq"
      },
      "execution_count": null,
      "outputs": []
    },
    {
      "cell_type": "code",
      "source": [
        "class Embedding_Dataset(torch.utils.data.Dataset):\n",
        "  def __init__(self, audio, text, label):\n",
        "    self.audio = audio\n",
        "    self.text = text\n",
        "    self.label = label\n",
        "  def __len__(self):\n",
        "    return len(self.label)\n",
        "  def __getitem__(self, idx):\n",
        "    return self.audio[idx], self.text[idx], self.label[idx]"
      ],
      "metadata": {
        "id": "a0daBZS9Ho7k"
      },
      "execution_count": null,
      "outputs": []
    },
    {
      "cell_type": "code",
      "source": [
        "# train_dataset = Embedding_Dataset(dev_audio, dev_text, dev_label)\n",
        "# test_dataset = Embedding_Dataset(test_audio, test_text, test_label)\n",
        "\n",
        "dev_dataset = Embedding_Dataset(dev_audio, dev_text, dev_label)\n",
        "val_dataset = Embedding_Dataset(val_audio, val_text, val_label)\n",
        "eval_dataset = Embedding_Dataset(eval_audio, eval_text, eval_label)\n",
        "\n",
        "\n",
        "dev_dataloader = torch.utils.data.DataLoader(dev_dataset, batch_size=config['batch_size'], shuffle=True, num_workers=8, pin_memory=True)\n",
        "val_dataloader = torch.utils.data.DataLoader(val_dataset, batch_size=config['batch_size'], shuffle=False, num_workers=2, pin_memory=True)\n",
        "eval_dataloader = torch.utils.data.DataLoader(eval_dataset, batch_size=config['batch_size'], shuffle=False, num_workers=2, pin_memory=True)\n",
        "\n",
        "print(\"Batch size     : \", config['batch_size'])\n",
        "print(\"Train dataset samples = {}, batches = {}\".format(dev_dataset.__len__(), len(dev_dataloader)))\n",
        "print(\"Validation dataset samples = {}, batches = {}\".format(val_dataset.__len__(), len(val_dataloader)))\n",
        "print(\"Evaluation dataset samples = {}, batches = {}\".format(eval_dataset.__len__(), len(eval_dataloader)))"
      ],
      "metadata": {
        "colab": {
          "base_uri": "https://localhost:8080/"
        },
        "id": "yo9TLk3UIPQk",
        "outputId": "51fea45d-937e-459d-873a-a34a1d32597e"
      },
      "execution_count": null,
      "outputs": [
        {
          "output_type": "stream",
          "name": "stdout",
          "text": [
            "Batch size     :  32\n",
            "Train dataset samples = 11517, batches = 360\n",
            "Validation dataset samples = 3135, batches = 98\n",
            "Evaluation dataset samples = 3135, batches = 98\n"
          ]
        }
      ]
    },
    {
      "cell_type": "code",
      "source": [
        "# test code\n",
        "for i,j,k in dev_dataloader:\n",
        "  print(i.shape)\n",
        "  print(j.shape)\n",
        "  print(k.shape)\n",
        "  break\n"
      ],
      "metadata": {
        "colab": {
          "base_uri": "https://localhost:8080/"
        },
        "id": "Ae--dJ4CMudq",
        "outputId": "cd84b68a-3d1a-4629-c636-876a7b1255ad"
      },
      "execution_count": null,
      "outputs": [
        {
          "output_type": "stream",
          "name": "stdout",
          "text": [
            "torch.Size([32, 1024])\n",
            "torch.Size([32, 1024])\n",
            "torch.Size([32])\n"
          ]
        }
      ]
    },
    {
      "cell_type": "code",
      "source": [
        "# Baseline\n",
        "class Baseline_network(torch.nn.Module):\n",
        "\n",
        "    def __init__(self, input_size, output_size):\n",
        "\n",
        "        super(Baseline_network, self).__init__()\n",
        "\n",
        "        self.fc1 = torch.nn.Linear(input_size, output_size)\n",
        "        self.relu = torch.nn.ReLU()\n",
        "\n",
        "    def forward(self, x):\n",
        "        x = self.fc1(x)\n",
        "        x = self.relu(x)\n",
        "        return x"
      ],
      "metadata": {
        "id": "NBJJOOj9Ir5l"
      },
      "execution_count": null,
      "outputs": []
    },
    {
      "cell_type": "code",
      "source": [
        "INPUT_SIZE  = 2048\n",
        "OUTPUT_SIZE = 3\n",
        "model = Baseline_network(INPUT_SIZE, OUTPUT_SIZE)\n",
        "summary(model, torch.zeros(1, INPUT_SIZE))\n",
        "model = model.to(device)\n"
      ],
      "metadata": {
        "colab": {
          "base_uri": "https://localhost:8080/"
        },
        "id": "JAqWDjaeJt5a",
        "outputId": "0a7f24d0-b620-4ded-f993-3c98ca72ceee"
      },
      "execution_count": null,
      "outputs": [
        {
          "output_type": "stream",
          "name": "stdout",
          "text": [
            "----------------------------------------------------------------------------------------------------\n",
            "Layer                   Kernel Shape         Output Shape         # Params (K)      # Mult-Adds (M)\n",
            "====================================================================================================\n",
            "0_Linear                   [2048, 3]               [1, 3]                 6.15                 0.01\n",
            "1_ReLU                             -               [1, 3]                    -                    -\n",
            "====================================================================================================\n",
            "# Params:    6.15K\n",
            "# Mult-Adds: 0.01M\n",
            "----------------------------------------------------------------------------------------------------\n"
          ]
        }
      ]
    },
    {
      "cell_type": "code",
      "source": [
        "criterion = torch.nn.CrossEntropyLoss() # Defining Loss function.\n",
        "# We use CE because the task is multi-class classification\n",
        "\n",
        "optimizer = torch.optim.Adam(model.parameters(), lr= config['init_lr'], weight_decay = config[\"weight_decay\"]) #Defining Optimizer\n",
        "scheduler = torch.optim.lr_scheduler.CosineAnnealingLR(optimizer, config[\"epochs\"])"
      ],
      "metadata": {
        "id": "IJ4sVOAwOjlu"
      },
      "execution_count": null,
      "outputs": []
    },
    {
      "cell_type": "code",
      "source": [
        "torch.cuda.empty_cache()\n",
        "gc.collect()"
      ],
      "metadata": {
        "colab": {
          "base_uri": "https://localhost:8080/",
          "height": 35
        },
        "id": "P1T85RH_J9--",
        "outputId": "50d5e1b1-247a-41e1-96b4-53d930ea6ce6"
      },
      "execution_count": null,
      "outputs": [
        {
          "output_type": "execute_result",
          "data": {
            "text/plain": [
              "619"
            ]
          },
          "metadata": {},
          "execution_count": 86
        }
      ]
    },
    {
      "cell_type": "code",
      "source": [
        "def train(model, dataloader, optimizer, criterion):\n",
        "\n",
        "    model.train()\n",
        "    tloss, tacc = 0, 0 # Monitoring loss and accuracy\n",
        "    batch_bar   = tqdm(total=len(dataloader), dynamic_ncols=True, leave=False, position=0, desc='Train')\n",
        "\n",
        "    for i, (audio, text, label) in enumerate(dataloader):\n",
        "\n",
        "        ### Initialize Gradients\n",
        "        optimizer.zero_grad()\n",
        "\n",
        "        ### Move Data to Device (Ideally GPU)\n",
        "        audio = audio.to(device)\n",
        "        text = text.to(device)\n",
        "        label = label.to(device)\n",
        "\n",
        "        concat = torch.cat((audio, text), dim=1)\n",
        "        ### Forward Propagation\n",
        "        logits  = model(concat)\n",
        "\n",
        "        ### Loss Calculation\n",
        "        loss    = criterion(logits, label)\n",
        "\n",
        "        ### Backward Propagation\n",
        "        loss.backward()\n",
        "\n",
        "        ### Gradient Descent\n",
        "        optimizer.step()\n",
        "\n",
        "        tloss   += loss.item()\n",
        "        tacc    += torch.sum(torch.argmax(logits, dim= 1) == label).item()/logits.shape[0]\n",
        "\n",
        "        batch_bar.set_postfix(loss=\"{:.04f}\".format(float(tloss / (i + 1))),\n",
        "                              acc=\"{:.04f}%\".format(float(tacc*100 / (i + 1))))\n",
        "        batch_bar.update()\n",
        "\n",
        "        ### Release memory\n",
        "        del audio, text, label, concat, logits\n",
        "        torch.cuda.empty_cache()\n",
        "\n",
        "    batch_bar.close()\n",
        "    tloss   /= len(dataloader)\n",
        "    tacc    /= len(dataloader)\n",
        "\n",
        "    return tloss, tacc"
      ],
      "metadata": {
        "id": "yes9CWggKAXn"
      },
      "execution_count": null,
      "outputs": []
    },
    {
      "cell_type": "code",
      "source": [
        "def eval(model, dataloader, criterion):\n",
        "\n",
        "    model.eval() # set model in evaluation mode\n",
        "    vloss, vacc = 0, 0 # Monitoring loss and accuracy\n",
        "    batch_bar   = tqdm(total=len(dataloader), dynamic_ncols=True, position=0, leave=False, desc='Val')\n",
        "\n",
        "    for i, (audio, text, label) in enumerate(dataloader):\n",
        "\n",
        "        ### Move data to device (ideally GPU)\n",
        "        audio = audio.to(device)\n",
        "        text = text.to(device)\n",
        "        label = label.to(device)\n",
        "\n",
        "        concat = torch.cat((audio, text), dim=1)\n",
        "\n",
        "        # makes sure that there are no gradients computed as we are not training the model now\n",
        "        with torch.inference_mode():\n",
        "            ### Forward Propagation\n",
        "            logits  = model(concat)\n",
        "            ### Loss Calculation\n",
        "            loss    = criterion(logits, label)\n",
        "\n",
        "        vloss   += loss.item()\n",
        "        vacc    += torch.sum(torch.argmax(logits, dim= 1) == label).item()/logits.shape[0]\n",
        "\n",
        "\n",
        "        batch_bar.set_postfix(loss=\"{:.04f}\".format(float(vloss / (i + 1))),\n",
        "                              acc=\"{:.04f}%\".format(float(vacc*100 / (i + 1))))\n",
        "        batch_bar.update()\n",
        "\n",
        "        ### Release memory\n",
        "        del audio, text, label, concat, logits\n",
        "        torch.cuda.empty_cache()\n",
        "\n",
        "    batch_bar.close()\n",
        "    vloss   /= len(dataloader)\n",
        "    vacc    /= len(dataloader)\n",
        "\n",
        "    return vloss, vacc"
      ],
      "metadata": {
        "id": "uWwTi53lNl1x"
      },
      "execution_count": null,
      "outputs": []
    },
    {
      "cell_type": "code",
      "source": [
        "wandb.login(key=\"bb3fb534ffdf4c363ed5c57d3c07fdb66645d5ea\") #API Key is in your wandb account, under settings (wandb.ai/settings)"
      ],
      "metadata": {
        "colab": {
          "base_uri": "https://localhost:8080/"
        },
        "id": "b96Z_tXfPBTS",
        "outputId": "1d2ccac2-822e-4be2-8213-b878ae2ccf7c"
      },
      "execution_count": null,
      "outputs": [
        {
          "output_type": "stream",
          "name": "stderr",
          "text": [
            "\u001b[34m\u001b[1mwandb\u001b[0m: Using wandb-core as the SDK backend. Please refer to https://wandb.me/wandb-core for more information.\n",
            "\u001b[34m\u001b[1mwandb\u001b[0m: Currently logged in as: \u001b[33mzijinc\u001b[0m (\u001b[33mzijinc-carnegie-mellon-university\u001b[0m). Use \u001b[1m`wandb login --relogin`\u001b[0m to force relogin\n",
            "\u001b[34m\u001b[1mwandb\u001b[0m: \u001b[33mWARNING\u001b[0m If you're specifying your api key in code, ensure this code is not shared publicly.\n",
            "\u001b[34m\u001b[1mwandb\u001b[0m: \u001b[33mWARNING\u001b[0m Consider setting the WANDB_API_KEY environment variable, or running `wandb login` from the command line.\n",
            "\u001b[34m\u001b[1mwandb\u001b[0m: Appending key for api.wandb.ai to your netrc file: /root/.netrc\n"
          ]
        },
        {
          "output_type": "execute_result",
          "data": {
            "text/plain": [
              "True"
            ]
          },
          "metadata": {},
          "execution_count": 61
        }
      ]
    },
    {
      "cell_type": "code",
      "source": [
        "# Create your wandb run\n",
        "version = \"three\"\n",
        "run = wandb.init(\n",
        "    name    = f\"{version}-run-baseline\", ### Wandb creates random run names if you skip this field, we recommend you give useful names\n",
        "    reinit  = True, ### Allows reinitalizing runs when you re-run this cell\n",
        "    #id     = \"y28t31uz\", ### Insert specific run id here if you want to resume a previous run\n",
        "    #resume = \"must\", ### You need this to resume previous runs, but comment out reinit = True when using this\n",
        "    project = \"ALM_course_project\", ### Project should be created in your wandb account\n",
        "    config  = config ### Wandb Config for your run\n",
        ")"
      ],
      "metadata": {
        "colab": {
          "base_uri": "https://localhost:8080/",
          "height": 105
        },
        "id": "DMbGXIxePEZ7",
        "outputId": "5671df23-6300-4782-f5ec-b5216cebb3f3"
      },
      "execution_count": null,
      "outputs": [
        {
          "output_type": "display_data",
          "data": {
            "text/plain": [
              "<IPython.core.display.HTML object>"
            ],
            "text/html": [
              "Tracking run with wandb version 0.18.5"
            ]
          },
          "metadata": {}
        },
        {
          "output_type": "display_data",
          "data": {
            "text/plain": [
              "<IPython.core.display.HTML object>"
            ],
            "text/html": [
              "Run data is saved locally in <code>/content/wandb/run-20241104_061306-kirpzzmf</code>"
            ]
          },
          "metadata": {}
        },
        {
          "output_type": "display_data",
          "data": {
            "text/plain": [
              "<IPython.core.display.HTML object>"
            ],
            "text/html": [
              "Syncing run <strong><a href='https://wandb.ai/zijinc-carnegie-mellon-university/ALM_course_project/runs/kirpzzmf' target=\"_blank\">three-run-baseline</a></strong> to <a href='https://wandb.ai/zijinc-carnegie-mellon-university/ALM_course_project' target=\"_blank\">Weights & Biases</a> (<a href='https://wandb.me/run' target=\"_blank\">docs</a>)<br/>"
            ]
          },
          "metadata": {}
        },
        {
          "output_type": "display_data",
          "data": {
            "text/plain": [
              "<IPython.core.display.HTML object>"
            ],
            "text/html": [
              " View project at <a href='https://wandb.ai/zijinc-carnegie-mellon-university/ALM_course_project' target=\"_blank\">https://wandb.ai/zijinc-carnegie-mellon-university/ALM_course_project</a>"
            ]
          },
          "metadata": {}
        },
        {
          "output_type": "display_data",
          "data": {
            "text/plain": [
              "<IPython.core.display.HTML object>"
            ],
            "text/html": [
              " View run at <a href='https://wandb.ai/zijinc-carnegie-mellon-university/ALM_course_project/runs/kirpzzmf' target=\"_blank\">https://wandb.ai/zijinc-carnegie-mellon-university/ALM_course_project/runs/kirpzzmf</a>"
            ]
          },
          "metadata": {}
        }
      ]
    },
    {
      "cell_type": "code",
      "source": [
        "from datetime import datetime\n",
        "import pytz\n",
        "timezone = pytz.timezone('America/New_York')"
      ],
      "metadata": {
        "id": "lY1Z_oVuPptK"
      },
      "execution_count": null,
      "outputs": []
    },
    {
      "cell_type": "code",
      "source": [
        "torch.cuda.empty_cache()\n",
        "gc.collect()\n",
        "wandb.watch(model, log=\"all\")\n",
        "\n",
        "for epoch in range(config[\"epochs\"]):\n",
        "\n",
        "    print(\"\\nEpoch {}/{}\".format(epoch+1, config['epochs']))\n",
        "\n",
        "    curr_lr                 = float(optimizer.param_groups[0]['lr'])\n",
        "    train_loss, train_acc   = train(model, dev_dataloader, optimizer, criterion)\n",
        "    val_loss, val_acc       = eval(model, val_dataloader, criterion)\n",
        "\n",
        "    print(\"\\tTrain Acc {:.04f}%\\tTrain Loss {:.04f}\\t Learning Rate {:.07f}\".format(train_acc*100, train_loss, curr_lr))\n",
        "    print(\"\\tVal Acc {:.04f}%\\tVal Loss {:.04f}\".format(val_acc*100, val_loss))\n",
        "\n",
        "    ### Log metrics at each epoch in your run\n",
        "    # Optionally, you can log at each batch inside train/eval functions\n",
        "    # (explore wandb documentation/wandb recitation)\n",
        "    wandb.log({'train_acc': train_acc*100, 'train_loss': train_loss,\n",
        "               'val_acc': val_acc*100, 'valid_loss': val_loss, 'lr': curr_lr})\n",
        "\n",
        "    scheduler.step()\n",
        "\n",
        "    if val_acc > 0.75:\n",
        "      current_time = datetime.now(timezone)\n",
        "      formatted_time = current_time.strftime(\"%Y%m%d_%H%M\")\n",
        "      MODEL_SAVE_PATH = f\"/content/drive/MyDrive/checkpoints__/project/{np.round(val_acc, 3)}_{formatted_time}_{version}.pt\"\n",
        "\n",
        "      torch.save({\n",
        "        'epochs': config[\"epochs\"],\n",
        "        \"batch_size\": config[\"batch_size\"],\n",
        "        \"init_lr\": config[\"init_lr\"],\n",
        "        'model_state_dict': model.state_dict(),\n",
        "      }, MODEL_SAVE_PATH)\n",
        "      print(f\"Model saved at {MODEL_SAVE_PATH}\")\n"
      ],
      "metadata": {
        "id": "hAv-xGxhOT4c"
      },
      "execution_count": null,
      "outputs": []
    },
    {
      "cell_type": "code",
      "source": [
        "def evaluate_model(model, data_loader, device):\n",
        "    model.eval()  # Set the model to evaluation mode\n",
        "\n",
        "    all_preds = []\n",
        "    all_labels = []\n",
        "\n",
        "    with torch.no_grad():  # Disable gradient calculation\n",
        "        for (audio, text, label) in data_loader:\n",
        "            audio = audio.to(device)\n",
        "            text = text.to(device)\n",
        "            label = label.to(device)\n",
        "            concat = torch.cat((audio, text), dim=1)\n",
        "\n",
        "            # Forward pass\n",
        "            outputs = model(concat)\n",
        "            _, preds = torch.max(outputs, 1)  # Get the predicted class indices\n",
        "\n",
        "            all_preds.extend(preds.cpu().numpy())\n",
        "            all_labels.extend(label.cpu().numpy())\n",
        "\n",
        "    # Convert lists to numpy arrays for metric calculations\n",
        "    all_preds = np.array(all_preds)\n",
        "    all_labels = np.array(all_labels)\n",
        "\n",
        "    # Calculate metrics\n",
        "    accuracy = accuracy_score(all_labels, all_preds)\n",
        "    precision = precision_score(all_labels, all_preds, average=None)  # For each class\n",
        "    recall = recall_score(all_labels, all_preds, average=None)        # For each class\n",
        "    f1 = f1_score(all_labels, all_preds, average=None)                # For each class\n",
        "\n",
        "    # Overall metrics\n",
        "    macro_precision = precision_score(all_labels, all_preds, average='macro')\n",
        "    macro_recall = recall_score(all_labels, all_preds, average='macro')\n",
        "    macro_f1 = f1_score(all_labels, all_preds, average='macro')\n",
        "\n",
        "    # Print results\n",
        "    print(f'Accuracy: {accuracy:.4f}')\n",
        "    print('Precision (per class):', precision)\n",
        "    print('Recall (per class):', recall)\n",
        "    print('F1 Score (per class):', f1)\n",
        "    print(f'Macro Precision: {macro_precision:.4f}')\n",
        "    print(f'Macro Recall: {macro_recall:.4f}')\n",
        "    print(f'Macro F1 Score: {macro_f1:.4f}')"
      ],
      "metadata": {
        "id": "wS_56dD1Sr0m"
      },
      "execution_count": null,
      "outputs": []
    },
    {
      "cell_type": "code",
      "source": [
        "evaluate_model(model, eval_dataloader, device)"
      ],
      "metadata": {
        "colab": {
          "base_uri": "https://localhost:8080/"
        },
        "id": "P83jmLMN4Uwz",
        "outputId": "cac61da1-bca2-4f0f-c5d9-c7a48f8b3bdb"
      },
      "execution_count": null,
      "outputs": [
        {
          "output_type": "stream",
          "name": "stdout",
          "text": [
            "Accuracy: 0.7378\n",
            "Precision (per class): [0.69230769 0.68073879 0.86423841]\n",
            "Recall (per class): [0.72344498 0.74066986 0.7492823 ]\n",
            "F1 Score (per class): [0.70753393 0.70944088 0.8026653 ]\n",
            "Macro Precision: 0.7458\n",
            "Macro Recall: 0.7378\n",
            "Macro F1 Score: 0.7399\n"
          ]
        }
      ]
    }
  ]
}